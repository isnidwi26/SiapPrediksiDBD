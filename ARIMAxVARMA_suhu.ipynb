{
 "cells": [
  {
   "cell_type": "code",
   "execution_count": 112,
   "metadata": {},
   "outputs": [],
   "source": [
    "import numpy as np \n",
    "import pandas as pd\n",
    "from statsmodels.tsa.stattools import acf, pacf\n",
    "import statsmodels.api as sm\n",
    "import math\n",
    "\n",
    "# visualizations\n",
    "import matplotlib.pyplot as plt\n",
    "from pylab import rcParams\n",
    "rcParams['figure.figsize'] = (12,5)\n",
    "%matplotlib inline\n",
    "from sklearn import metrics, preprocessing\n",
    "\n",
    "# time series related \n",
    "from pmdarima import auto_arima\n",
    "from statsmodels.tsa.stattools import adfuller\n",
    "from statsmodels.tools.eval_measures import mse,rmse\n",
    "from statsmodels.tsa.statespace.varmax import VARMAX,VARMAXResults\n",
    "\n",
    "from statsmodels.tsa.vector_ar.vecm import coint_johansen\n",
    "from timeit import default_timer as timer\n",
    "\n",
    "# handle warnings\n",
    "import warnings\n",
    "warnings.filterwarnings(action='ignore',category=DeprecationWarning)\n",
    "warnings.filterwarnings(action='ignore',category=FutureWarning)"
   ]
  },
  {
   "cell_type": "markdown",
   "metadata": {},
   "source": [
    "KUMPULAN FUNGSI"
   ]
  },
  {
   "cell_type": "code",
   "execution_count": 113,
   "metadata": {},
   "outputs": [],
   "source": [
    "def Augmented_Dickey_Fuller_Test_func(series , column_name):\n",
    "    print (f'Results of Dickey-Fuller Test for column: {column_name}')\n",
    "    datatest = adfuller(series, autolag='AIC')\n",
    "    dataoutput = pd.Series(datatest[0:4], index=['Test Statistic','p-value','No Lags Used','Number of Observations Used'])\n",
    "    for key,value in datatest[4].items():\n",
    "       dataoutput['Critical Value (%s)'%key] = value\n",
    "    print (dataoutput)\n",
    "    if datatest[1] <= 0.05:\n",
    "        print(\"Conclusion:====>\")\n",
    "        print(\"Reject the null hypothesis\")\n",
    "        print(\"Data is stationary\")\n",
    "    else:\n",
    "        print(\"Conclusion:====>\")\n",
    "        print(\"Fail to reject the null hypothesis\")\n",
    "        print(\"Data is non-stationary\")"
   ]
  },
  {
   "cell_type": "code",
   "execution_count": 114,
   "metadata": {},
   "outputs": [],
   "source": [
    "def inverse_diff(actual_df, pred_df):\n",
    "    df_res = pred_df.copy()\n",
    "    columns = actual_df.columns\n",
    "    for col in columns: \n",
    "        df_res['inv_'+str(col)] = actual_df[col].iloc[-1] + df_res[str(col)].cumsum()\n",
    "    return df_res"
   ]
  },
  {
   "cell_type": "code",
   "execution_count": 115,
   "metadata": {},
   "outputs": [],
   "source": [
    "def cointegration_test(dataTA): \n",
    "    res = coint_johansen(dataTA,-1,5)\n",
    "    d = {'0.90':0, '0.95':1, '0.99':2}\n",
    "    traces = res.lr1\n",
    "    cvts = res.cvt[:, d[str(1-0.05)]]\n",
    "    def adjust(val, length= 6): \n",
    "        return str(val).ljust(length)\n",
    "    print('Column Name   >  Test Stat > C(95%)    =>   Signif  \\n', '--'*20)\n",
    "    for col, trace, cvt in zip(dataTA.columns, traces, cvts):\n",
    "        print(adjust(col), '> ', adjust(round(trace,2), 9), \">\", adjust(cvt, 8), ' =>  ' , trace > cvt)"
   ]
  },
  {
   "cell_type": "code",
   "execution_count": 116,
   "metadata": {},
   "outputs": [],
   "source": [
    "def timeseries_evaluation_metrics_func(y_true, y_pred):\n",
    "    \n",
    "    def mean_absolute_percentage_error(y_true, y_pred): \n",
    "        y_true, y_pred = np.array(y_true), np.array(y_pred)\n",
    "        return np.mean(np.abs((y_true - y_pred) / y_true)) * 100\n",
    "    print('Evaluation metric results:-')\n",
    "    print(f'MSE is : {metrics.mean_squared_error(y_true, y_pred)}')\n",
    "    print(f'MAE is : {metrics.mean_absolute_error(y_true, y_pred)}')\n",
    "    print(f'RMSE is : {np.sqrt(metrics.mean_squared_error(y_true, y_pred))}')\n",
    "    print(f'MAPE is : {metrics.mean_absolute_percentage_error(y_true, y_pred)}',end='\\n\\n')"
   ]
  },
  {
   "cell_type": "markdown",
   "metadata": {},
   "source": [
    "INPUT DATA"
   ]
  },
  {
   "cell_type": "code",
   "execution_count": 117,
   "metadata": {},
   "outputs": [
    {
     "name": "stdout",
     "output_type": "stream",
     "text": [
      "(120, 4)\n"
     ]
    },
    {
     "data": {
      "text/html": [
       "<div>\n",
       "<style scoped>\n",
       "    .dataframe tbody tr th:only-of-type {\n",
       "        vertical-align: middle;\n",
       "    }\n",
       "\n",
       "    .dataframe tbody tr th {\n",
       "        vertical-align: top;\n",
       "    }\n",
       "\n",
       "    .dataframe thead th {\n",
       "        text-align: right;\n",
       "    }\n",
       "</style>\n",
       "<table border=\"1\" class=\"dataframe\">\n",
       "  <thead>\n",
       "    <tr style=\"text-align: right;\">\n",
       "      <th></th>\n",
       "      <th>KasusDBD</th>\n",
       "      <th>Tavg</th>\n",
       "      <th>RHavg</th>\n",
       "      <th>ss</th>\n",
       "    </tr>\n",
       "    <tr>\n",
       "      <th>Tahun</th>\n",
       "      <th></th>\n",
       "      <th></th>\n",
       "      <th></th>\n",
       "      <th></th>\n",
       "    </tr>\n",
       "  </thead>\n",
       "  <tbody>\n",
       "    <tr>\n",
       "      <th>2012-01-01</th>\n",
       "      <td>436.0</td>\n",
       "      <td>23.06</td>\n",
       "      <td>77.55</td>\n",
       "      <td>2.80</td>\n",
       "    </tr>\n",
       "    <tr>\n",
       "      <th>2012-02-01</th>\n",
       "      <td>493.0</td>\n",
       "      <td>23.50</td>\n",
       "      <td>78.69</td>\n",
       "      <td>6.33</td>\n",
       "    </tr>\n",
       "    <tr>\n",
       "      <th>2012-03-01</th>\n",
       "      <td>519.0</td>\n",
       "      <td>23.50</td>\n",
       "      <td>74.48</td>\n",
       "      <td>5.33</td>\n",
       "    </tr>\n",
       "    <tr>\n",
       "      <th>2012-04-01</th>\n",
       "      <td>482.0</td>\n",
       "      <td>24.00</td>\n",
       "      <td>81.00</td>\n",
       "      <td>3.00</td>\n",
       "    </tr>\n",
       "    <tr>\n",
       "      <th>2012-05-01</th>\n",
       "      <td>573.0</td>\n",
       "      <td>23.60</td>\n",
       "      <td>77.23</td>\n",
       "      <td>6.75</td>\n",
       "    </tr>\n",
       "  </tbody>\n",
       "</table>\n",
       "</div>"
      ],
      "text/plain": [
       "            KasusDBD   Tavg  RHavg    ss\n",
       "Tahun                                   \n",
       "2012-01-01     436.0  23.06  77.55  2.80\n",
       "2012-02-01     493.0  23.50  78.69  6.33\n",
       "2012-03-01     519.0  23.50  74.48  5.33\n",
       "2012-04-01     482.0  24.00  81.00  3.00\n",
       "2012-05-01     573.0  23.60  77.23  6.75"
      ]
     },
     "execution_count": 117,
     "metadata": {},
     "output_type": "execute_result"
    }
   ],
   "source": [
    "dataTA = pd.read_csv('dataTA.csv', parse_dates=['Tahun'], index_col='Tahun')\n",
    "dataTA.index.freq = 'MS'\n",
    "print(dataTA.shape) \n",
    "dataTA.head()"
   ]
  },
  {
   "cell_type": "code",
   "execution_count": 118,
   "metadata": {},
   "outputs": [
    {
     "data": {
      "text/plain": [
       "(120, 2)"
      ]
     },
     "execution_count": 118,
     "metadata": {},
     "output_type": "execute_result"
    }
   ],
   "source": [
    "data=dataTA[['KasusDBD', 'Tavg']]\n",
    "data.columns = ['KasusDBD', 'Tavg']\n",
    "data.shape"
   ]
  },
  {
   "cell_type": "markdown",
   "metadata": {},
   "source": [
    "PLOT DATA   "
   ]
  },
  {
   "cell_type": "code",
   "execution_count": 119,
   "metadata": {},
   "outputs": [
    {
     "data": {
      "image/png": "[encoded data removed]",
      "text/plain": [
       "<Figure size 864x360 with 1 Axes>"
      ]
     },
     "metadata": {
      "needs_background": "light"
     },
     "output_type": "display_data"
    }
   ],
   "source": [
    "ylabel= ' '\n",
    "xlabel= 'Tahun'\n",
    "ax = dataTA['KasusDBD'].plot(figsize=(12,5),legend=True)\n",
    "ax.autoscale(axis='x',tight=True)\n",
    "\n"
   ]
  },
  {
   "cell_type": "code",
   "execution_count": 120,
   "metadata": {},
   "outputs": [
    {
     "data": {
      "image/png": "[encoded data removed]",
      "text/plain": [
       "<Figure size 864x360 with 1 Axes>"
      ]
     },
     "metadata": {
      "needs_background": "light"
     },
     "output_type": "display_data"
    }
   ],
   "source": [
    "ylabel= ' '\n",
    "xlabel= 'Tahun'\n",
    "ax = dataTA['Tavg'].plot(figsize=(12,5),legend=True)\n",
    "ax.autoscale(axis='x',tight=True)"
   ]
  },
  {
   "cell_type": "markdown",
   "metadata": {},
   "source": [
    "UJI KORELASI"
   ]
  },
  {
   "cell_type": "code",
   "execution_count": 121,
   "metadata": {},
   "outputs": [
    {
     "data": {
      "text/html": [
       "<div>\n",
       "<style scoped>\n",
       "    .dataframe tbody tr th:only-of-type {\n",
       "        vertical-align: middle;\n",
       "    }\n",
       "\n",
       "    .dataframe tbody tr th {\n",
       "        vertical-align: top;\n",
       "    }\n",
       "\n",
       "    .dataframe thead th {\n",
       "        text-align: right;\n",
       "    }\n",
       "</style>\n",
       "<table border=\"1\" class=\"dataframe\">\n",
       "  <thead>\n",
       "    <tr style=\"text-align: right;\">\n",
       "      <th></th>\n",
       "      <th>KasusDBD</th>\n",
       "      <th>Tavg</th>\n",
       "    </tr>\n",
       "  </thead>\n",
       "  <tbody>\n",
       "    <tr>\n",
       "      <th>KasusDBD</th>\n",
       "      <td>1.000000</td>\n",
       "      <td>-0.162691</td>\n",
       "    </tr>\n",
       "    <tr>\n",
       "      <th>Tavg</th>\n",
       "      <td>-0.162691</td>\n",
       "      <td>1.000000</td>\n",
       "    </tr>\n",
       "  </tbody>\n",
       "</table>\n",
       "</div>"
      ],
      "text/plain": [
       "          KasusDBD      Tavg\n",
       "KasusDBD  1.000000 -0.162691\n",
       "Tavg     -0.162691  1.000000"
      ]
     },
     "execution_count": 121,
     "metadata": {},
     "output_type": "execute_result"
    }
   ],
   "source": [
    "data.corr()"
   ]
  },
  {
   "cell_type": "markdown",
   "metadata": {},
   "source": [
    "UJI STASIONER"
   ]
  },
  {
   "cell_type": "code",
   "execution_count": 122,
   "metadata": {},
   "outputs": [
    {
     "name": "stdout",
     "output_type": "stream",
     "text": [
      "Results of Dickey-Fuller Test for column: KasusDBD\n",
      "Test Statistic                  -4.822679\n",
      "p-value                          0.000049\n",
      "No Lags Used                     4.000000\n",
      "Number of Observations Used    115.000000\n",
      "Critical Value (1%)             -3.488535\n",
      "Critical Value (5%)             -2.887020\n",
      "Critical Value (10%)            -2.580360\n",
      "dtype: float64\n",
      "Conclusion:====>\n",
      "Reject the null hypothesis\n",
      "Data is stationary\n",
      "\n",
      "\n",
      "Results of Dickey-Fuller Test for column: Tavg\n",
      "Test Statistic                  -3.634114\n",
      "p-value                          0.005141\n",
      "No Lags Used                    12.000000\n",
      "Number of Observations Used    107.000000\n",
      "Critical Value (1%)             -3.492996\n",
      "Critical Value (5%)             -2.888955\n",
      "Critical Value (10%)            -2.581393\n",
      "dtype: float64\n",
      "Conclusion:====>\n",
      "Reject the null hypothesis\n",
      "Data is stationary\n",
      "\n",
      "\n"
     ]
    }
   ],
   "source": [
    "for name, column in data.iteritems():\n",
    "    Augmented_Dickey_Fuller_Test_func(data[name],name)\n",
    "    print('\\n')"
   ]
  },
  {
   "cell_type": "markdown",
   "metadata": {},
   "source": [
    "NORMALISASI DATA"
   ]
  },
  {
   "cell_type": "code",
   "execution_count": 123,
   "metadata": {},
   "outputs": [],
   "source": [
    "max_kasus = data['KasusDBD'].max()\n",
    "max_suhu = data['Tavg'].max()"
   ]
  },
  {
   "cell_type": "code",
   "execution_count": 124,
   "metadata": {},
   "outputs": [
    {
     "name": "stderr",
     "output_type": "stream",
     "text": [
      "C:\\Users\\asus\\AppData\\Local\\Temp\\ipykernel_16368\\3585945669.py:1: SettingWithCopyWarning: \n",
      "A value is trying to be set on a copy of a slice from a DataFrame.\n",
      "Try using .loc[row_indexer,col_indexer] = value instead\n",
      "\n",
      "See the caveats in the documentation: https://pandas.pydata.org/pandas-docs/stable/user_guide/indexing.html#returning-a-view-versus-a-copy\n",
      "  data['KasusDBD'] = data['KasusDBD']/max_kasus\n",
      "C:\\Users\\asus\\AppData\\Local\\Temp\\ipykernel_16368\\3585945669.py:2: SettingWithCopyWarning: \n",
      "A value is trying to be set on a copy of a slice from a DataFrame.\n",
      "Try using .loc[row_indexer,col_indexer] = value instead\n",
      "\n",
      "See the caveats in the documentation: https://pandas.pydata.org/pandas-docs/stable/user_guide/indexing.html#returning-a-view-versus-a-copy\n",
      "  data['Tavg'] = data['Tavg']/max_suhu\n"
     ]
    },
    {
     "data": {
      "text/html": [
       "<div>\n",
       "<style scoped>\n",
       "    .dataframe tbody tr th:only-of-type {\n",
       "        vertical-align: middle;\n",
       "    }\n",
       "\n",
       "    .dataframe tbody tr th {\n",
       "        vertical-align: top;\n",
       "    }\n",
       "\n",
       "    .dataframe thead th {\n",
       "        text-align: right;\n",
       "    }\n",
       "</style>\n",
       "<table border=\"1\" class=\"dataframe\">\n",
       "  <thead>\n",
       "    <tr style=\"text-align: right;\">\n",
       "      <th></th>\n",
       "      <th>KasusDBD</th>\n",
       "      <th>Tavg</th>\n",
       "    </tr>\n",
       "    <tr>\n",
       "      <th>Tahun</th>\n",
       "      <th></th>\n",
       "      <th></th>\n",
       "    </tr>\n",
       "  </thead>\n",
       "  <tbody>\n",
       "    <tr>\n",
       "      <th>2012-01-01</th>\n",
       "      <td>0.522782</td>\n",
       "      <td>0.886923</td>\n",
       "    </tr>\n",
       "    <tr>\n",
       "      <th>2012-02-01</th>\n",
       "      <td>0.591127</td>\n",
       "      <td>0.903846</td>\n",
       "    </tr>\n",
       "    <tr>\n",
       "      <th>2012-03-01</th>\n",
       "      <td>0.622302</td>\n",
       "      <td>0.903846</td>\n",
       "    </tr>\n",
       "    <tr>\n",
       "      <th>2012-04-01</th>\n",
       "      <td>0.577938</td>\n",
       "      <td>0.923077</td>\n",
       "    </tr>\n",
       "    <tr>\n",
       "      <th>2012-05-01</th>\n",
       "      <td>0.687050</td>\n",
       "      <td>0.907692</td>\n",
       "    </tr>\n",
       "    <tr>\n",
       "      <th>...</th>\n",
       "      <td>...</td>\n",
       "      <td>...</td>\n",
       "    </tr>\n",
       "    <tr>\n",
       "      <th>2021-08-01</th>\n",
       "      <td>0.438849</td>\n",
       "      <td>0.903077</td>\n",
       "    </tr>\n",
       "    <tr>\n",
       "      <th>2021-09-01</th>\n",
       "      <td>0.416067</td>\n",
       "      <td>0.916923</td>\n",
       "    </tr>\n",
       "    <tr>\n",
       "      <th>2021-10-01</th>\n",
       "      <td>0.412470</td>\n",
       "      <td>0.921154</td>\n",
       "    </tr>\n",
       "    <tr>\n",
       "      <th>2021-11-01</th>\n",
       "      <td>0.569544</td>\n",
       "      <td>0.901154</td>\n",
       "    </tr>\n",
       "    <tr>\n",
       "      <th>2021-12-01</th>\n",
       "      <td>0.833333</td>\n",
       "      <td>0.913846</td>\n",
       "    </tr>\n",
       "  </tbody>\n",
       "</table>\n",
       "<p>120 rows × 2 columns</p>\n",
       "</div>"
      ],
      "text/plain": [
       "            KasusDBD      Tavg\n",
       "Tahun                         \n",
       "2012-01-01  0.522782  0.886923\n",
       "2012-02-01  0.591127  0.903846\n",
       "2012-03-01  0.622302  0.903846\n",
       "2012-04-01  0.577938  0.923077\n",
       "2012-05-01  0.687050  0.907692\n",
       "...              ...       ...\n",
       "2021-08-01  0.438849  0.903077\n",
       "2021-09-01  0.416067  0.916923\n",
       "2021-10-01  0.412470  0.921154\n",
       "2021-11-01  0.569544  0.901154\n",
       "2021-12-01  0.833333  0.913846\n",
       "\n",
       "[120 rows x 2 columns]"
      ]
     },
     "execution_count": 124,
     "metadata": {},
     "output_type": "execute_result"
    }
   ],
   "source": [
    "data['KasusDBD'] = data['KasusDBD']/max_kasus\n",
    "data['Tavg'] = data['Tavg']/max_suhu\n",
    "data"
   ]
  },
  {
   "cell_type": "markdown",
   "metadata": {},
   "source": [
    "TRAIN TEST SPLIT AND DIFFERENCING"
   ]
  },
  {
   "cell_type": "code",
   "execution_count": 125,
   "metadata": {},
   "outputs": [
    {
     "data": {
      "text/html": [
       "<div>\n",
       "<style scoped>\n",
       "    .dataframe tbody tr th:only-of-type {\n",
       "        vertical-align: middle;\n",
       "    }\n",
       "\n",
       "    .dataframe tbody tr th {\n",
       "        vertical-align: top;\n",
       "    }\n",
       "\n",
       "    .dataframe thead th {\n",
       "        text-align: right;\n",
       "    }\n",
       "</style>\n",
       "<table border=\"1\" class=\"dataframe\">\n",
       "  <thead>\n",
       "    <tr style=\"text-align: right;\">\n",
       "      <th></th>\n",
       "      <th>KasusDBD</th>\n",
       "      <th>Tavg</th>\n",
       "    </tr>\n",
       "    <tr>\n",
       "      <th>Tahun</th>\n",
       "      <th></th>\n",
       "      <th></th>\n",
       "    </tr>\n",
       "  </thead>\n",
       "  <tbody>\n",
       "    <tr>\n",
       "      <th>2012-03-01</th>\n",
       "      <td>0.099520</td>\n",
       "      <td>0.016923</td>\n",
       "    </tr>\n",
       "    <tr>\n",
       "      <th>2012-04-01</th>\n",
       "      <td>-0.013189</td>\n",
       "      <td>0.019231</td>\n",
       "    </tr>\n",
       "    <tr>\n",
       "      <th>2012-05-01</th>\n",
       "      <td>0.064748</td>\n",
       "      <td>0.003846</td>\n",
       "    </tr>\n",
       "    <tr>\n",
       "      <th>2012-06-01</th>\n",
       "      <td>0.065947</td>\n",
       "      <td>-0.019231</td>\n",
       "    </tr>\n",
       "    <tr>\n",
       "      <th>2012-07-01</th>\n",
       "      <td>-0.142686</td>\n",
       "      <td>-0.046154</td>\n",
       "    </tr>\n",
       "    <tr>\n",
       "      <th>...</th>\n",
       "      <td>...</td>\n",
       "      <td>...</td>\n",
       "    </tr>\n",
       "    <tr>\n",
       "      <th>2021-05-01</th>\n",
       "      <td>0.172662</td>\n",
       "      <td>0.016923</td>\n",
       "    </tr>\n",
       "    <tr>\n",
       "      <th>2021-06-01</th>\n",
       "      <td>0.094724</td>\n",
       "      <td>-0.008846</td>\n",
       "    </tr>\n",
       "    <tr>\n",
       "      <th>2021-07-01</th>\n",
       "      <td>-0.082734</td>\n",
       "      <td>-0.036538</td>\n",
       "    </tr>\n",
       "    <tr>\n",
       "      <th>2021-08-01</th>\n",
       "      <td>0.111511</td>\n",
       "      <td>-0.000385</td>\n",
       "    </tr>\n",
       "    <tr>\n",
       "      <th>2021-09-01</th>\n",
       "      <td>0.125899</td>\n",
       "      <td>0.026923</td>\n",
       "    </tr>\n",
       "  </tbody>\n",
       "</table>\n",
       "<p>115 rows × 2 columns</p>\n",
       "</div>"
      ],
      "text/plain": [
       "            KasusDBD      Tavg\n",
       "Tahun                         \n",
       "2012-03-01  0.099520  0.016923\n",
       "2012-04-01 -0.013189  0.019231\n",
       "2012-05-01  0.064748  0.003846\n",
       "2012-06-01  0.065947 -0.019231\n",
       "2012-07-01 -0.142686 -0.046154\n",
       "...              ...       ...\n",
       "2021-05-01  0.172662  0.016923\n",
       "2021-06-01  0.094724 -0.008846\n",
       "2021-07-01 -0.082734 -0.036538\n",
       "2021-08-01  0.111511 -0.000385\n",
       "2021-09-01  0.125899  0.026923\n",
       "\n",
       "[115 rows x 2 columns]"
      ]
     },
     "execution_count": 125,
     "metadata": {},
     "output_type": "execute_result"
    }
   ],
   "source": [
    "n = 3\n",
    "train,test = data[0:-n], data[-n:]\n",
    "train_diff=train.diff(periods=2)\n",
    "train_diff.dropna(inplace=True)\n",
    "train_diff"
   ]
  },
  {
   "cell_type": "code",
   "execution_count": 126,
   "metadata": {},
   "outputs": [
    {
     "name": "stdout",
     "output_type": "stream",
     "text": [
      "Results of Dickey-Fuller Test for column: KasusDBD\n",
      "Test Statistic                  -4.200822\n",
      "p-value                          0.000657\n",
      "No Lags Used                    10.000000\n",
      "Number of Observations Used    104.000000\n",
      "Critical Value (1%)             -3.494850\n",
      "Critical Value (5%)             -2.889758\n",
      "Critical Value (10%)            -2.581822\n",
      "dtype: float64\n",
      "Conclusion:====>\n",
      "Reject the null hypothesis\n",
      "Data is stationary\n",
      "\n",
      "\n",
      "Results of Dickey-Fuller Test for column: Tavg\n",
      "Test Statistic                  -3.953779\n",
      "p-value                          0.001673\n",
      "No Lags Used                    13.000000\n",
      "Number of Observations Used    101.000000\n",
      "Critical Value (1%)             -3.496818\n",
      "Critical Value (5%)             -2.890611\n",
      "Critical Value (10%)            -2.582277\n",
      "dtype: float64\n",
      "Conclusion:====>\n",
      "Reject the null hypothesis\n",
      "Data is stationary\n",
      "\n",
      "\n"
     ]
    }
   ],
   "source": [
    "for name, column in train_diff.iteritems():\n",
    "    Augmented_Dickey_Fuller_Test_func(train_diff[name],name)\n",
    "    print('\\n')"
   ]
  },
  {
   "cell_type": "code",
   "execution_count": 127,
   "metadata": {},
   "outputs": [
    {
     "name": "stdout",
     "output_type": "stream",
     "text": [
      "Column Name   >  Test Stat > C(95%)    =>   Signif  \n",
      " ----------------------------------------\n",
      "KasusDBD >  90.44     > 12.3212   =>   True\n",
      "Tavg   >  31.9      > 4.1296    =>   True\n"
     ]
    }
   ],
   "source": [
    "cointegration_test(train_diff[['KasusDBD', 'Tavg']])"
   ]
  },
  {
   "cell_type": "code",
   "execution_count": 128,
   "metadata": {},
   "outputs": [
    {
     "data": {
      "text/plain": [
       "Text(0.5, 1.0, 'Partial Autocorrelation Function TAVG')"
      ]
     },
     "execution_count": 128,
     "metadata": {},
     "output_type": "execute_result"
    },
    {
     "data": {
      "image/png": "[encoded data removed]",
      "text/plain": [
       "<Figure size 432x288 with 2 Axes>"
      ]
     },
     "metadata": {
      "needs_background": "light"
     },
     "output_type": "display_data"
    }
   ],
   "source": [
    "#TAVG\n",
    "Tavg_acf = acf(train_diff['Tavg'], nlags=24)\n",
    "Tavg_pacf = pacf(train_diff['Tavg'], nlags=24, method='ols')\n",
    "\n",
    "#Plot ACF: \n",
    "plt.subplot(311) \n",
    "plt.plot(Tavg_acf)\n",
    "plt.axhline(y=0,linestyle='--',color='gray')\n",
    "plt.axhline(y=-1.96/np.sqrt(len(train_diff['Tavg'])),linestyle='--',color='gray')\n",
    "plt.axhline(y=1.96/np.sqrt(len(train_diff['Tavg'])),linestyle='--',color='gray')\n",
    "plt.title(f'Autocorrelation Function TAVG')\n",
    "\n",
    "#Plot PACF:\n",
    "plt.subplot(313)\n",
    "plt.plot(Tavg_pacf)\n",
    "plt.axhline(y=0,linestyle='--',color='gray')\n",
    "plt.axhline(y=-1.96/np.sqrt(len(train_diff['Tavg'])),linestyle='--',color='gray')\n",
    "plt.axhline(y=1.96/np.sqrt(len(train_diff['Tavg'])),linestyle='--',color='gray')\n",
    "plt.title(f'Partial Autocorrelation Function TAVG')"
   ]
  },
  {
   "cell_type": "markdown",
   "metadata": {},
   "source": [
    "AUTO ARIMA"
   ]
  },
  {
   "cell_type": "code",
   "execution_count": 129,
   "metadata": {},
   "outputs": [
    {
     "name": "stdout",
     "output_type": "stream",
     "text": [
      "Searching order of p and q for : KasusDBD\n",
      "Performing stepwise search to minimize aic\n",
      " ARIMA(1,0,1)(0,0,0)[0]             : AIC=inf, Time=0.19 sec\n",
      " ARIMA(0,0,0)(0,0,0)[0]             : AIC=-53.804, Time=0.01 sec\n",
      " ARIMA(1,0,0)(0,0,0)[0]             : AIC=-90.393, Time=0.02 sec\n",
      " ARIMA(0,0,1)(0,0,0)[0]             : AIC=inf, Time=0.12 sec\n",
      " ARIMA(2,0,0)(0,0,0)[0]             : AIC=-106.089, Time=0.07 sec\n",
      " ARIMA(3,0,0)(0,0,0)[0]             : AIC=-108.406, Time=0.10 sec\n",
      " ARIMA(4,0,0)(0,0,0)[0]             : AIC=-126.498, Time=0.17 sec\n",
      " ARIMA(5,0,0)(0,0,0)[0]             : AIC=-125.778, Time=0.19 sec\n",
      " ARIMA(4,0,1)(0,0,0)[0]             : AIC=inf, Time=0.54 sec\n",
      " ARIMA(3,0,1)(0,0,0)[0]             : AIC=inf, Time=0.54 sec\n",
      " ARIMA(5,0,1)(0,0,0)[0]             : AIC=inf, Time=0.59 sec\n",
      " ARIMA(4,0,0)(0,0,0)[0] intercept   : AIC=-124.530, Time=0.24 sec\n",
      "\n",
      "Best model:  ARIMA(4,0,0)(0,0,0)[0]          \n",
      "Total fit time: 2.794 seconds\n",
      "optimal order for:KasusDBD is: (4, 0, 0) \n",
      "\n",
      "\n",
      "Searching order of p and q for : Tavg\n",
      "Performing stepwise search to minimize aic\n",
      " ARIMA(1,0,1)(0,0,0)[0]             : AIC=-490.713, Time=0.12 sec\n",
      " ARIMA(0,0,0)(0,0,0)[0]             : AIC=-455.390, Time=0.03 sec\n",
      " ARIMA(1,0,0)(0,0,0)[0]             : AIC=-457.533, Time=0.04 sec\n",
      " ARIMA(0,0,1)(0,0,0)[0]             : AIC=-480.247, Time=0.07 sec\n",
      " ARIMA(2,0,1)(0,0,0)[0]             : AIC=-501.704, Time=0.17 sec\n",
      " ARIMA(2,0,0)(0,0,0)[0]             : AIC=-486.140, Time=0.08 sec\n",
      " ARIMA(3,0,1)(0,0,0)[0]             : AIC=inf, Time=0.49 sec\n",
      " ARIMA(2,0,2)(0,0,0)[0]             : AIC=inf, Time=0.64 sec\n",
      " ARIMA(1,0,2)(0,0,0)[0]             : AIC=inf, Time=0.44 sec\n",
      " ARIMA(3,0,0)(0,0,0)[0]             : AIC=-486.057, Time=0.15 sec\n",
      " ARIMA(3,0,2)(0,0,0)[0]             : AIC=inf, Time=0.82 sec\n",
      " ARIMA(2,0,1)(0,0,0)[0] intercept   : AIC=inf, Time=0.54 sec\n",
      "\n",
      "Best model:  ARIMA(2,0,1)(0,0,0)[0]          \n",
      "Total fit time: 3.600 seconds\n",
      "optimal order for:Tavg is: (2, 0, 1) \n",
      "\n",
      "\n"
     ]
    }
   ],
   "source": [
    "pq = []\n",
    "for name, column in train_diff[['KasusDBD','Tavg']].iteritems():\n",
    "    print(f'Searching order of p and q for : {name}')\n",
    "    stepwise_model = auto_arima(train_diff[name],start_p=1, start_q=1,max_p=7, max_q=7, seasonal=False,\n",
    "        trace=True,error_action='ignore',suppress_warnings=True, stepwise=True,maxiter=1000)\n",
    "    parameter = stepwise_model.get_params().get('order')\n",
    "    print(f'optimal order for:{name} is: {parameter} \\n\\n')\n",
    "    pq.append(stepwise_model.get_params().get('order'))"
   ]
  },
  {
   "cell_type": "markdown",
   "metadata": {},
   "source": [
    "VARMA MODEL ORDER SELECTION"
   ]
  },
  {
   "cell_type": "code",
   "execution_count": 130,
   "metadata": {},
   "outputs": [
    {
     "name": "stderr",
     "output_type": "stream",
     "text": [
      "c:\\Users\\asus\\AppData\\Local\\Programs\\Python\\Python38\\lib\\site-packages\\statsmodels\\base\\model.py:604: ConvergenceWarning: Maximum Likelihood optimization failed to converge. Check mle_retvals\n",
      "  warnings.warn(\"Maximum Likelihood optimization failed to \"\n"
     ]
    },
    {
     "name": "stdout",
     "output_type": "stream",
     "text": [
      "VARMA Order (4, 0, 0)\n",
      "AIC -626.97081069293\n",
      "BIC -569.3272359973017\n",
      "\n"
     ]
    },
    {
     "name": "stderr",
     "output_type": "stream",
     "text": [
      "c:\\Users\\asus\\AppData\\Local\\Programs\\Python\\Python38\\lib\\site-packages\\statsmodels\\tsa\\statespace\\varmax.py:161: EstimationWarning: Estimation of VARMA(p,q) models is not generically robust, due especially to identification issues.\n",
      "  warn('Estimation of VARMA(p,q) models is not generically robust,'\n"
     ]
    },
    {
     "name": "stdout",
     "output_type": "stream",
     "text": [
      "VARMA Order (2, 0, 1)\n",
      "AIC -590.9180929501816\n",
      "BIC -544.2542467680064\n",
      "\n"
     ]
    },
    {
     "name": "stderr",
     "output_type": "stream",
     "text": [
      "c:\\Users\\asus\\AppData\\Local\\Programs\\Python\\Python38\\lib\\site-packages\\statsmodels\\base\\model.py:604: ConvergenceWarning: Maximum Likelihood optimization failed to converge. Check mle_retvals\n",
      "  warnings.warn(\"Maximum Likelihood optimization failed to \"\n"
     ]
    }
   ],
   "source": [
    "for i in pq:\n",
    "    if i[0]== 0 and i[2] ==0:\n",
    "        pass\n",
    "    else:\n",
    "        model = VARMAX(train_diff[['KasusDBD','Tavg']], order=(i[0],i[2]))\n",
    "        result=model.fit( disp=False)\n",
    "        print(f'VARMA Order {i}')\n",
    "        print('AIC {}'.format(result.aic))\n",
    "        print('BIC {}'.format(result.bic))\n",
    "        print()"
   ]
  },
  {
   "cell_type": "code",
   "execution_count": 131,
   "metadata": {},
   "outputs": [
    {
     "name": "stderr",
     "output_type": "stream",
     "text": [
      "c:\\Users\\asus\\AppData\\Local\\Programs\\Python\\Python38\\lib\\site-packages\\statsmodels\\base\\model.py:604: ConvergenceWarning: Maximum Likelihood optimization failed to converge. Check mle_retvals\n",
      "  warnings.warn(\"Maximum Likelihood optimization failed to \"\n"
     ]
    },
    {
     "name": "stdout",
     "output_type": "stream",
     "text": [
      "                            Statespace Model Results                            \n",
      "================================================================================\n",
      "Dep. Variable:     ['KasusDBD', 'Tavg']   No. Observations:                  115\n",
      "Model:                           VAR(4)   Log Likelihood                 334.485\n",
      "                            + intercept   AIC                           -626.971\n",
      "Date:                  Fri, 19 Aug 2022   BIC                           -569.327\n",
      "Time:                          15:11:21   HQIC                          -603.574\n",
      "Sample:                      03-01-2012                                         \n",
      "                           - 09-01-2021                                         \n",
      "Covariance Type:                    opg                                         \n",
      "===================================================================================\n",
      "Ljung-Box (L1) (Q):             0.23, 0.10   Jarque-Bera (JB):         248.40, 3.87\n",
      "Prob(Q):                        0.63, 0.75   Prob(JB):                   0.00, 0.14\n",
      "Heteroskedasticity (H):         1.75, 0.18   Skew:                      1.63, -0.01\n",
      "Prob(H) (two-sided):            0.09, 0.00   Kurtosis:                   9.41, 3.90\n",
      "                         Results for equation KasusDBD                         \n",
      "===============================================================================\n",
      "                  coef    std err          z      P>|z|      [0.025      0.975]\n",
      "-------------------------------------------------------------------------------\n",
      "intercept      -0.0023      0.017     -0.135      0.893      -0.036       0.032\n",
      "L1.KasusDBD     0.8826      0.090      9.856      0.000       0.707       1.058\n",
      "L1.Tavg         0.5749      0.526      1.093      0.274      -0.456       1.605\n",
      "L2.KasusDBD    -0.7255      0.138     -5.242      0.000      -0.997      -0.454\n",
      "L2.Tavg        -0.1632      0.734     -0.222      0.824      -1.602       1.275\n",
      "L3.KasusDBD     0.5320      0.128      4.154      0.000       0.281       0.783\n",
      "L3.Tavg         1.1073      0.671      1.650      0.099      -0.208       2.422\n",
      "L4.KasusDBD    -0.3864      0.097     -4.003      0.000      -0.576      -0.197\n",
      "L4.Tavg         0.0817      0.807      0.101      0.919      -1.499       1.663\n",
      "                           Results for equation Tavg                           \n",
      "===============================================================================\n",
      "                  coef    std err          z      P>|z|      [0.025      0.975]\n",
      "-------------------------------------------------------------------------------\n",
      "intercept       0.0002      0.003      0.067      0.947      -0.005       0.006\n",
      "L1.KasusDBD     0.0058      0.027      0.217      0.828      -0.047       0.058\n",
      "L1.Tavg         0.1422      0.090      1.575      0.115      -0.035       0.319\n",
      "L2.KasusDBD    -0.0149      0.030     -0.502      0.615      -0.073       0.043\n",
      "L2.Tavg        -0.6689      0.089     -7.551      0.000      -0.843      -0.495\n",
      "L3.KasusDBD    -0.0053      0.028     -0.190      0.850      -0.060       0.049\n",
      "L3.Tavg        -0.0338      0.077     -0.439      0.661      -0.185       0.117\n",
      "L4.KasusDBD     0.0002      0.020      0.011      0.991      -0.039       0.039\n",
      "L4.Tavg        -0.4821      0.085     -5.663      0.000      -0.649      -0.315\n",
      "                                 Error covariance matrix                                  \n",
      "==========================================================================================\n",
      "                             coef    std err          z      P>|z|      [0.025      0.975]\n",
      "------------------------------------------------------------------------------------------\n",
      "sqrt.var.KasusDBD          0.1287      0.009     14.970      0.000       0.112       0.146\n",
      "sqrt.cov.KasusDBD.Tavg     0.0009      0.003      0.342      0.732      -0.004       0.006\n",
      "sqrt.var.Tavg              0.0245      0.002     14.260      0.000       0.021       0.028\n",
      "==========================================================================================\n",
      "\n",
      "Warnings:\n",
      "[1] Covariance matrix calculated using the outer product of gradients (complex-step).\n"
     ]
    }
   ],
   "source": [
    "varma_model = VARMAX(train_diff[['KasusDBD','Tavg']], order=(4,0),enforce_stationarity= True)\n",
    "fitted_model = varma_model.fit(disp=False)\n",
    "print(fitted_model.summary())"
   ]
  },
  {
   "cell_type": "markdown",
   "metadata": {},
   "source": [
    "PREDIKSI KASUS DBD"
   ]
  },
  {
   "cell_type": "code",
   "execution_count": 132,
   "metadata": {},
   "outputs": [
    {
     "data": {
      "text/html": [
       "<div>\n",
       "<style scoped>\n",
       "    .dataframe tbody tr th:only-of-type {\n",
       "        vertical-align: middle;\n",
       "    }\n",
       "\n",
       "    .dataframe tbody tr th {\n",
       "        vertical-align: top;\n",
       "    }\n",
       "\n",
       "    .dataframe thead th {\n",
       "        text-align: right;\n",
       "    }\n",
       "</style>\n",
       "<table border=\"1\" class=\"dataframe\">\n",
       "  <thead>\n",
       "    <tr style=\"text-align: right;\">\n",
       "      <th></th>\n",
       "      <th>KasusDBD</th>\n",
       "      <th>Tavg</th>\n",
       "    </tr>\n",
       "  </thead>\n",
       "  <tbody>\n",
       "    <tr>\n",
       "      <th>2021-10-01</th>\n",
       "      <td>-0.078373</td>\n",
       "      <td>0.009308</td>\n",
       "    </tr>\n",
       "    <tr>\n",
       "      <th>2021-11-01</th>\n",
       "      <td>-0.074018</td>\n",
       "      <td>-0.001806</td>\n",
       "    </tr>\n",
       "    <tr>\n",
       "      <th>2021-12-01</th>\n",
       "      <td>0.040306</td>\n",
       "      <td>-0.006925</td>\n",
       "    </tr>\n",
       "  </tbody>\n",
       "</table>\n",
       "</div>"
      ],
      "text/plain": [
       "            KasusDBD      Tavg\n",
       "2021-10-01 -0.078373  0.009308\n",
       "2021-11-01 -0.074018 -0.001806\n",
       "2021-12-01  0.040306 -0.006925"
      ]
     },
     "execution_count": 132,
     "metadata": {},
     "output_type": "execute_result"
    }
   ],
   "source": [
    "m = len(train_diff)\n",
    "predict = fitted_model.get_prediction(start=m,end=m+n-1)\n",
    "prediction=predict.predicted_mean\n",
    "prediction"
   ]
  },
  {
   "cell_type": "code",
   "execution_count": 133,
   "metadata": {},
   "outputs": [
    {
     "data": {
      "text/html": [
       "<div>\n",
       "<style scoped>\n",
       "    .dataframe tbody tr th:only-of-type {\n",
       "        vertical-align: middle;\n",
       "    }\n",
       "\n",
       "    .dataframe tbody tr th {\n",
       "        vertical-align: top;\n",
       "    }\n",
       "\n",
       "    .dataframe thead th {\n",
       "        text-align: right;\n",
       "    }\n",
       "</style>\n",
       "<table border=\"1\" class=\"dataframe\">\n",
       "  <thead>\n",
       "    <tr style=\"text-align: right;\">\n",
       "      <th></th>\n",
       "      <th>KasusDBD</th>\n",
       "      <th>Tavg</th>\n",
       "      <th>inv_KasusDBD</th>\n",
       "      <th>inv_Tavg</th>\n",
       "    </tr>\n",
       "  </thead>\n",
       "  <tbody>\n",
       "    <tr>\n",
       "      <th>2021-10-01</th>\n",
       "      <td>-0.078373</td>\n",
       "      <td>0.009308</td>\n",
       "      <td>0.754961</td>\n",
       "      <td>0.923154</td>\n",
       "    </tr>\n",
       "    <tr>\n",
       "      <th>2021-11-01</th>\n",
       "      <td>-0.074018</td>\n",
       "      <td>-0.001806</td>\n",
       "      <td>0.680943</td>\n",
       "      <td>0.921348</td>\n",
       "    </tr>\n",
       "    <tr>\n",
       "      <th>2021-12-01</th>\n",
       "      <td>0.040306</td>\n",
       "      <td>-0.006925</td>\n",
       "      <td>0.721248</td>\n",
       "      <td>0.914423</td>\n",
       "    </tr>\n",
       "  </tbody>\n",
       "</table>\n",
       "</div>"
      ],
      "text/plain": [
       "            KasusDBD      Tavg  inv_KasusDBD  inv_Tavg\n",
       "2021-10-01 -0.078373  0.009308      0.754961  0.923154\n",
       "2021-11-01 -0.074018 -0.001806      0.680943  0.921348\n",
       "2021-12-01  0.040306 -0.006925      0.721248  0.914423"
      ]
     },
     "execution_count": 133,
     "metadata": {},
     "output_type": "execute_result"
    }
   ],
   "source": [
    "inv_predict = inverse_diff(data,prediction)\n",
    "inv_predict"
   ]
  },
  {
   "cell_type": "code",
   "execution_count": 134,
   "metadata": {},
   "outputs": [
    {
     "data": {
      "text/html": [
       "<div>\n",
       "<style scoped>\n",
       "    .dataframe tbody tr th:only-of-type {\n",
       "        vertical-align: middle;\n",
       "    }\n",
       "\n",
       "    .dataframe tbody tr th {\n",
       "        vertical-align: top;\n",
       "    }\n",
       "\n",
       "    .dataframe thead th {\n",
       "        text-align: right;\n",
       "    }\n",
       "</style>\n",
       "<table border=\"1\" class=\"dataframe\">\n",
       "  <thead>\n",
       "    <tr style=\"text-align: right;\">\n",
       "      <th></th>\n",
       "      <th>KasusDBD</th>\n",
       "      <th>Tavg</th>\n",
       "      <th>inv_KasusDBD</th>\n",
       "      <th>inv_Tavg</th>\n",
       "    </tr>\n",
       "  </thead>\n",
       "  <tbody>\n",
       "    <tr>\n",
       "      <th>2021-10-01</th>\n",
       "      <td>0.412470</td>\n",
       "      <td>0.921154</td>\n",
       "      <td>0.754961</td>\n",
       "      <td>0.923154</td>\n",
       "    </tr>\n",
       "    <tr>\n",
       "      <th>2021-11-01</th>\n",
       "      <td>0.569544</td>\n",
       "      <td>0.901154</td>\n",
       "      <td>0.680943</td>\n",
       "      <td>0.921348</td>\n",
       "    </tr>\n",
       "    <tr>\n",
       "      <th>2021-12-01</th>\n",
       "      <td>0.833333</td>\n",
       "      <td>0.913846</td>\n",
       "      <td>0.721248</td>\n",
       "      <td>0.914423</td>\n",
       "    </tr>\n",
       "  </tbody>\n",
       "</table>\n",
       "</div>"
      ],
      "text/plain": [
       "            KasusDBD      Tavg  inv_KasusDBD  inv_Tavg\n",
       "2021-10-01  0.412470  0.921154      0.754961  0.923154\n",
       "2021-11-01  0.569544  0.901154      0.680943  0.921348\n",
       "2021-12-01  0.833333  0.913846      0.721248  0.914423"
      ]
     },
     "execution_count": 134,
     "metadata": {},
     "output_type": "execute_result"
    }
   ],
   "source": [
    "test_vs_prediction = pd.concat([test,inv_predict[['inv_KasusDBD','inv_Tavg']]],axis=1)\n",
    "test_vs_prediction"
   ]
  },
  {
   "cell_type": "markdown",
   "metadata": {},
   "source": [
    "MENGEMBALIKAN NILAI ASLI"
   ]
  },
  {
   "cell_type": "code",
   "execution_count": 135,
   "metadata": {},
   "outputs": [
    {
     "data": {
      "text/html": [
       "<div>\n",
       "<style scoped>\n",
       "    .dataframe tbody tr th:only-of-type {\n",
       "        vertical-align: middle;\n",
       "    }\n",
       "\n",
       "    .dataframe tbody tr th {\n",
       "        vertical-align: top;\n",
       "    }\n",
       "\n",
       "    .dataframe thead th {\n",
       "        text-align: right;\n",
       "    }\n",
       "</style>\n",
       "<table border=\"1\" class=\"dataframe\">\n",
       "  <thead>\n",
       "    <tr style=\"text-align: right;\">\n",
       "      <th></th>\n",
       "      <th>KasusDBD</th>\n",
       "      <th>Tavg</th>\n",
       "      <th>inv_KasusDBD</th>\n",
       "      <th>inv_Tavg</th>\n",
       "    </tr>\n",
       "  </thead>\n",
       "  <tbody>\n",
       "    <tr>\n",
       "      <th>2021-10-01</th>\n",
       "      <td>344.0</td>\n",
       "      <td>23.95</td>\n",
       "      <td>629.637312</td>\n",
       "      <td>24.002016</td>\n",
       "    </tr>\n",
       "    <tr>\n",
       "      <th>2021-11-01</th>\n",
       "      <td>475.0</td>\n",
       "      <td>23.43</td>\n",
       "      <td>567.906213</td>\n",
       "      <td>23.955055</td>\n",
       "    </tr>\n",
       "    <tr>\n",
       "      <th>2021-12-01</th>\n",
       "      <td>695.0</td>\n",
       "      <td>23.76</td>\n",
       "      <td>601.521040</td>\n",
       "      <td>23.775004</td>\n",
       "    </tr>\n",
       "  </tbody>\n",
       "</table>\n",
       "</div>"
      ],
      "text/plain": [
       "            KasusDBD   Tavg  inv_KasusDBD   inv_Tavg\n",
       "2021-10-01     344.0  23.95    629.637312  24.002016\n",
       "2021-11-01     475.0  23.43    567.906213  23.955055\n",
       "2021-12-01     695.0  23.76    601.521040  23.775004"
      ]
     },
     "execution_count": 135,
     "metadata": {},
     "output_type": "execute_result"
    }
   ],
   "source": [
    "test_vs_prediction['inv_KasusDBD'] = test_vs_prediction['inv_KasusDBD']*max_kasus\n",
    "test_vs_prediction['inv_Tavg'] = test_vs_prediction['inv_Tavg']*max_suhu\n",
    "test_vs_prediction['KasusDBD'] = test_vs_prediction['KasusDBD']*dataTA['KasusDBD'].max()\n",
    "test_vs_prediction['Tavg'] = test_vs_prediction['Tavg']*dataTA['Tavg'].max()\n",
    "test_vs_prediction"
   ]
  },
  {
   "cell_type": "markdown",
   "metadata": {},
   "source": [
    "KONVERSI PREDIKSI DARI FLOAT MENJADI INTEGER"
   ]
  },
  {
   "cell_type": "code",
   "execution_count": 136,
   "metadata": {},
   "outputs": [
    {
     "data": {
      "text/plain": [
       "KasusDBD        float64\n",
       "Tavg            float64\n",
       "inv_KasusDBD      int64\n",
       "inv_Tavg        float64\n",
       "dtype: object"
      ]
     },
     "metadata": {},
     "output_type": "display_data"
    },
    {
     "data": {
      "text/html": [
       "<div>\n",
       "<style scoped>\n",
       "    .dataframe tbody tr th:only-of-type {\n",
       "        vertical-align: middle;\n",
       "    }\n",
       "\n",
       "    .dataframe tbody tr th {\n",
       "        vertical-align: top;\n",
       "    }\n",
       "\n",
       "    .dataframe thead th {\n",
       "        text-align: right;\n",
       "    }\n",
       "</style>\n",
       "<table border=\"1\" class=\"dataframe\">\n",
       "  <thead>\n",
       "    <tr style=\"text-align: right;\">\n",
       "      <th></th>\n",
       "      <th>KasusDBD</th>\n",
       "      <th>Tavg</th>\n",
       "      <th>inv_KasusDBD</th>\n",
       "      <th>inv_Tavg</th>\n",
       "    </tr>\n",
       "  </thead>\n",
       "  <tbody>\n",
       "    <tr>\n",
       "      <th>2021-10-01</th>\n",
       "      <td>344.0</td>\n",
       "      <td>23.95</td>\n",
       "      <td>629</td>\n",
       "      <td>24.002016</td>\n",
       "    </tr>\n",
       "    <tr>\n",
       "      <th>2021-11-01</th>\n",
       "      <td>475.0</td>\n",
       "      <td>23.43</td>\n",
       "      <td>567</td>\n",
       "      <td>23.955055</td>\n",
       "    </tr>\n",
       "    <tr>\n",
       "      <th>2021-12-01</th>\n",
       "      <td>695.0</td>\n",
       "      <td>23.76</td>\n",
       "      <td>601</td>\n",
       "      <td>23.775004</td>\n",
       "    </tr>\n",
       "  </tbody>\n",
       "</table>\n",
       "</div>"
      ],
      "text/plain": [
       "            KasusDBD   Tavg  inv_KasusDBD   inv_Tavg\n",
       "2021-10-01     344.0  23.95           629  24.002016\n",
       "2021-11-01     475.0  23.43           567  23.955055\n",
       "2021-12-01     695.0  23.76           601  23.775004"
      ]
     },
     "execution_count": 136,
     "metadata": {},
     "output_type": "execute_result"
    }
   ],
   "source": [
    "# converting 'test_vs_prediction' from float to int\n",
    "test_vs_prediction[['inv_KasusDBD']] = test_vs_prediction[['inv_KasusDBD']].apply(np.int64)\n",
    "\n",
    "# displaying the datatypes\n",
    "display(test_vs_prediction.dtypes)\n",
    "test_vs_prediction"
   ]
  },
  {
   "cell_type": "code",
   "execution_count": 137,
   "metadata": {},
   "outputs": [
    {
     "name": "stdout",
     "output_type": "stream",
     "text": [
      "Evaluation metric for KasusDBD\n",
      "Evaluation metric results:-\n",
      "MSE is : 32841.666666666664\n",
      "MAE is : 157.0\n",
      "RMSE is : 181.2226990933163\n",
      "MAPE is : 0.3858081270601634\n",
      "\n",
      "Evaluation metric for Tavg\n",
      "Evaluation metric results:-\n",
      "MSE is : 0.09287099639995548\n",
      "MAE is : 0.19735795132223188\n",
      "RMSE is : 0.3047474305059117\n",
      "MAPE is : 0.008404269611131988\n",
      "\n"
     ]
    }
   ],
   "source": [
    "for i in ['KasusDBD','Tavg']:\n",
    "    print(f'Evaluation metric for {i}')\n",
    "    timeseries_evaluation_metrics_func(test_vs_prediction[str(i)],test_vs_prediction['inv_'+str(i)])"
   ]
  },
  {
   "cell_type": "code",
   "execution_count": 138,
   "metadata": {},
   "outputs": [
    {
     "data": {
      "text/plain": [
       "<AxesSubplot:>"
      ]
     },
     "execution_count": 138,
     "metadata": {},
     "output_type": "execute_result"
    },
    {
     "data": {
      "image/png": "[encoded data removed]",
      "text/plain": [
       "<Figure size 864x360 with 1 Axes>"
      ]
     },
     "metadata": {
      "needs_background": "light"
     },
     "output_type": "display_data"
    }
   ],
   "source": [
    "test_vs_prediction[['KasusDBD','inv_KasusDBD']].plot(figsize=(12,5))"
   ]
  },
  {
   "cell_type": "code",
   "execution_count": 139,
   "metadata": {},
   "outputs": [
    {
     "data": {
      "text/plain": [
       "<AxesSubplot:>"
      ]
     },
     "execution_count": 139,
     "metadata": {},
     "output_type": "execute_result"
    },
    {
     "data": {
      "image/png": "[encoded data removed]",
      "text/plain": [
       "<Figure size 864x360 with 1 Axes>"
      ]
     },
     "metadata": {
      "needs_background": "light"
     },
     "output_type": "display_data"
    }
   ],
   "source": [
    "test_vs_prediction[['Tavg','inv_Tavg']].plot(figsize=(12,5))"
   ]
  },
  {
   "cell_type": "code",
   "execution_count": 142,
   "metadata": {},
   "outputs": [
    {
     "data": {
      "image/png": "[encoded data removed]",
      "text/plain": [
       "<Figure size 720x504 with 1 Axes>"
      ]
     },
     "metadata": {
      "needs_background": "light"
     },
     "output_type": "display_data"
    },
    {
     "data": {
      "image/png": "[encoded data removed]",
      "text/plain": [
       "<Figure size 720x504 with 1 Axes>"
      ]
     },
     "metadata": {
      "needs_background": "light"
     },
     "output_type": "display_data"
    }
   ],
   "source": [
    "for i in ['KasusDBD','Tavg']:\n",
    "    \n",
    "    plt.rcParams[\"figure.figsize\"] = [10,7]\n",
    "    plt.plot(dataTA[str(i)], label='Data asli '+str(i))\n",
    "    plt.plot(test_vs_prediction['inv_'+str(i)], label='Forecast '+str(i))\n",
    "    plt.legend(loc='best')\n",
    "    plt.show()"
   ]
  }
 ],
 "metadata": {
  "kernelspec": {
   "display_name": "Python 3.8.3 64-bit",
   "language": "python",
   "name": "python3"
  },
  "language_info": {
   "codemirror_mode": {
    "name": "ipython",
    "version": 3
   },
   "file_extension": ".py",
   "mimetype": "text/x-python",
   "name": "python",
   "nbconvert_exporter": "python",
   "pygments_lexer": "ipython3",
   "version": "3.8.3"
  },
  "orig_nbformat": 4,
  "vscode": {
   "interpreter": {
    "hash": "7268f8b2c8e9b7c101aef22317ecead934d41adaa74e017730d34c40a6ef846d"
   }
  }
 },
 "nbformat": 4,
 "nbformat_minor": 2
}
