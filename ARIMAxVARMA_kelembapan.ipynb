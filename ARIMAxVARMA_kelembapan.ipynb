{
 "cells": [
  {
   "cell_type": "code",
   "execution_count": 363,
   "metadata": {},
   "outputs": [],
   "source": [
    "import numpy as np \n",
    "import pandas as pd\n",
    "from statsmodels.tsa.stattools import acf, pacf\n",
    "import statsmodels.api as sm\n",
    "import math\n",
    "\n",
    "# visualizations\n",
    "import matplotlib.pyplot as plt\n",
    "from pylab import rcParams\n",
    "rcParams['figure.figsize'] = (12,5)\n",
    "%matplotlib inline\n",
    "from sklearn import metrics, preprocessing\n",
    "\n",
    "# time series related \n",
    "from pmdarima import auto_arima\n",
    "from statsmodels.tsa.stattools import adfuller\n",
    "from statsmodels.tools.eval_measures import mse,rmse\n",
    "from statsmodels.tsa.statespace.varmax import VARMAX,VARMAXResults\n",
    "\n",
    "from statsmodels.tsa.vector_ar.vecm import coint_johansen\n",
    "from timeit import default_timer as timer\n",
    "\n",
    "# handle warnings\n",
    "import warnings\n",
    "warnings.filterwarnings(action='ignore',category=DeprecationWarning)\n",
    "warnings.filterwarnings(action='ignore',category=FutureWarning)"
   ]
  },
  {
   "cell_type": "markdown",
   "metadata": {},
   "source": [
    "KUMPULAN FUNGSI"
   ]
  },
  {
   "cell_type": "code",
   "execution_count": 364,
   "metadata": {},
   "outputs": [],
   "source": [
    "def Augmented_Dickey_Fuller_Test_func(series , column_name):\n",
    "    print (f'Results of Dickey-Fuller Test for column: {column_name}')\n",
    "    datatest = adfuller(series, autolag='AIC')\n",
    "    dataoutput = pd.Series(datatest[0:4], index=['Test Statistic','p-value','No Lags Used','Number of Observations Used'])\n",
    "    for key,value in datatest[4].items():\n",
    "       dataoutput['Critical Value (%s)'%key] = value\n",
    "    print (dataoutput)\n",
    "    if datatest[1] <= 0.05:\n",
    "        print(\"Conclusion:====>\")\n",
    "        print(\"Reject the null hypothesis\")\n",
    "        print(\"Data is stationary\")\n",
    "    else:\n",
    "        print(\"Conclusion:====>\")\n",
    "        print(\"Fail to reject the null hypothesis\")\n",
    "        print(\"Data is non-stationary\")"
   ]
  },
  {
   "cell_type": "code",
   "execution_count": 365,
   "metadata": {},
   "outputs": [],
   "source": [
    "def inverse_diff(actual_df, pred_df):\n",
    "    df_res = pred_df.copy()\n",
    "    columns = actual_df.columns\n",
    "    for col in columns: \n",
    "        df_res['inv_'+str(col)] = actual_df[col].iloc[-1] + df_res[str(col)].cumsum()\n",
    "    return df_res"
   ]
  },
  {
   "cell_type": "code",
   "execution_count": 366,
   "metadata": {},
   "outputs": [],
   "source": [
    "def cointegration_test(dataTA): \n",
    "    res = coint_johansen(dataTA,-1,5)\n",
    "    d = {'0.90':0, '0.95':1, '0.99':2}\n",
    "    traces = res.lr1\n",
    "    cvts = res.cvt[:, d[str(1-0.05)]]\n",
    "    def adjust(val, length= 6): \n",
    "        return str(val).ljust(length)\n",
    "    print('Column Name   >  Test Stat > C(95%)    =>   Signif  \\n', '--'*20)\n",
    "    for col, trace, cvt in zip(dataTA.columns, traces, cvts):\n",
    "        print(adjust(col), ' > ', adjust(round(trace,2), 9), \">\", adjust(cvt, 8), ' =>  ' , trace > cvt)"
   ]
  },
  {
   "cell_type": "code",
   "execution_count": 367,
   "metadata": {},
   "outputs": [],
   "source": [
    "def timeseries_evaluation_metrics_func(y_true, y_pred):\n",
    "    \n",
    "    def mean_absolute_percentage_error(y_true, y_pred): \n",
    "        y_true, y_pred = np.array(y_true), np.array(y_pred)\n",
    "        return np.mean(np.abs((y_true - y_pred) / y_true)) * 100\n",
    "    print('Evaluation metric results:-')\n",
    "    print(f'MSE is : {metrics.mean_squared_error(y_true, y_pred)}')\n",
    "    print(f'MAE is : {metrics.mean_absolute_error(y_true, y_pred)}')\n",
    "    print(f'RMSE is : {np.sqrt(metrics.mean_squared_error(y_true, y_pred))}')\n",
    "    print(f'MAPE is : {metrics.mean_absolute_percentage_error(y_true, y_pred)}',end='\\n\\n')"
   ]
  },
  {
   "cell_type": "markdown",
   "metadata": {},
   "source": [
    "INPUT DATA"
   ]
  },
  {
   "cell_type": "code",
   "execution_count": 368,
   "metadata": {},
   "outputs": [
    {
     "name": "stdout",
     "output_type": "stream",
     "text": [
      "(120, 4)\n"
     ]
    },
    {
     "data": {
      "text/html": [
       "<div>\n",
       "<style scoped>\n",
       "    .dataframe tbody tr th:only-of-type {\n",
       "        vertical-align: middle;\n",
       "    }\n",
       "\n",
       "    .dataframe tbody tr th {\n",
       "        vertical-align: top;\n",
       "    }\n",
       "\n",
       "    .dataframe thead th {\n",
       "        text-align: right;\n",
       "    }\n",
       "</style>\n",
       "<table border=\"1\" class=\"dataframe\">\n",
       "  <thead>\n",
       "    <tr style=\"text-align: right;\">\n",
       "      <th></th>\n",
       "      <th>KasusDBD</th>\n",
       "      <th>Tavg</th>\n",
       "      <th>RHavg</th>\n",
       "      <th>ss</th>\n",
       "    </tr>\n",
       "    <tr>\n",
       "      <th>Tahun</th>\n",
       "      <th></th>\n",
       "      <th></th>\n",
       "      <th></th>\n",
       "      <th></th>\n",
       "    </tr>\n",
       "  </thead>\n",
       "  <tbody>\n",
       "    <tr>\n",
       "      <th>2012-01-01</th>\n",
       "      <td>436.0</td>\n",
       "      <td>23.06</td>\n",
       "      <td>77.55</td>\n",
       "      <td>2.80</td>\n",
       "    </tr>\n",
       "    <tr>\n",
       "      <th>2012-02-01</th>\n",
       "      <td>493.0</td>\n",
       "      <td>23.50</td>\n",
       "      <td>78.69</td>\n",
       "      <td>6.33</td>\n",
       "    </tr>\n",
       "    <tr>\n",
       "      <th>2012-03-01</th>\n",
       "      <td>519.0</td>\n",
       "      <td>23.50</td>\n",
       "      <td>74.48</td>\n",
       "      <td>5.33</td>\n",
       "    </tr>\n",
       "    <tr>\n",
       "      <th>2012-04-01</th>\n",
       "      <td>482.0</td>\n",
       "      <td>24.00</td>\n",
       "      <td>81.00</td>\n",
       "      <td>3.00</td>\n",
       "    </tr>\n",
       "    <tr>\n",
       "      <th>2012-05-01</th>\n",
       "      <td>573.0</td>\n",
       "      <td>23.60</td>\n",
       "      <td>77.23</td>\n",
       "      <td>6.75</td>\n",
       "    </tr>\n",
       "  </tbody>\n",
       "</table>\n",
       "</div>"
      ],
      "text/plain": [
       "            KasusDBD   Tavg  RHavg    ss\n",
       "Tahun                                   \n",
       "2012-01-01     436.0  23.06  77.55  2.80\n",
       "2012-02-01     493.0  23.50  78.69  6.33\n",
       "2012-03-01     519.0  23.50  74.48  5.33\n",
       "2012-04-01     482.0  24.00  81.00  3.00\n",
       "2012-05-01     573.0  23.60  77.23  6.75"
      ]
     },
     "execution_count": 368,
     "metadata": {},
     "output_type": "execute_result"
    }
   ],
   "source": [
    "dataTA = pd.read_csv('dataTA.csv', parse_dates=['Tahun'], index_col='Tahun')\n",
    "dataTA.index.freq = 'MS'\n",
    "print(dataTA.shape) \n",
    "dataTA.head()"
   ]
  },
  {
   "cell_type": "markdown",
   "metadata": {},
   "source": [
    "VISUAL DATA"
   ]
  },
  {
   "cell_type": "code",
   "execution_count": 369,
   "metadata": {},
   "outputs": [
    {
     "data": {
      "image/png": "[encoded data removed]",
      "text/plain": [
       "<Figure size 864x360 with 1 Axes>"
      ]
     },
     "metadata": {
      "needs_background": "light"
     },
     "output_type": "display_data"
    }
   ],
   "source": [
    "ylabel= ' '\n",
    "xlabel= 'Tahun'\n",
    "ax = dataTA['KasusDBD'].plot(figsize=(12,5),legend=True)\n",
    "ax.autoscale(axis='x',tight=True)"
   ]
  },
  {
   "cell_type": "code",
   "execution_count": 370,
   "metadata": {},
   "outputs": [
    {
     "data": {
      "image/png": "[encoded data removed]",
      "text/plain": [
       "<Figure size 864x360 with 1 Axes>"
      ]
     },
     "metadata": {
      "needs_background": "light"
     },
     "output_type": "display_data"
    }
   ],
   "source": [
    "ylabel= ' '\n",
    "xlabel= 'Tahun'\n",
    "ax = dataTA['RHavg'].plot(figsize=(12,5),legend=True)\n",
    "ax.autoscale(axis='x',tight=True)"
   ]
  },
  {
   "cell_type": "code",
   "execution_count": 371,
   "metadata": {},
   "outputs": [
    {
     "data": {
      "text/html": [
       "<div>\n",
       "<style scoped>\n",
       "    .dataframe tbody tr th:only-of-type {\n",
       "        vertical-align: middle;\n",
       "    }\n",
       "\n",
       "    .dataframe tbody tr th {\n",
       "        vertical-align: top;\n",
       "    }\n",
       "\n",
       "    .dataframe thead th {\n",
       "        text-align: right;\n",
       "    }\n",
       "</style>\n",
       "<table border=\"1\" class=\"dataframe\">\n",
       "  <thead>\n",
       "    <tr style=\"text-align: right;\">\n",
       "      <th></th>\n",
       "      <th>KasusDBD</th>\n",
       "      <th>RHavg</th>\n",
       "    </tr>\n",
       "    <tr>\n",
       "      <th>Tahun</th>\n",
       "      <th></th>\n",
       "      <th></th>\n",
       "    </tr>\n",
       "  </thead>\n",
       "  <tbody>\n",
       "    <tr>\n",
       "      <th>2020-01-01</th>\n",
       "      <td>248.0</td>\n",
       "      <td>81.29</td>\n",
       "    </tr>\n",
       "    <tr>\n",
       "      <th>2020-02-01</th>\n",
       "      <td>330.0</td>\n",
       "      <td>83.69</td>\n",
       "    </tr>\n",
       "    <tr>\n",
       "      <th>2020-03-01</th>\n",
       "      <td>479.0</td>\n",
       "      <td>81.13</td>\n",
       "    </tr>\n",
       "    <tr>\n",
       "      <th>2020-04-01</th>\n",
       "      <td>409.0</td>\n",
       "      <td>82.07</td>\n",
       "    </tr>\n",
       "    <tr>\n",
       "      <th>2020-05-01</th>\n",
       "      <td>365.0</td>\n",
       "      <td>81.74</td>\n",
       "    </tr>\n",
       "    <tr>\n",
       "      <th>2020-06-01</th>\n",
       "      <td>335.0</td>\n",
       "      <td>76.20</td>\n",
       "    </tr>\n",
       "    <tr>\n",
       "      <th>2020-07-01</th>\n",
       "      <td>209.0</td>\n",
       "      <td>73.55</td>\n",
       "    </tr>\n",
       "    <tr>\n",
       "      <th>2020-08-01</th>\n",
       "      <td>107.0</td>\n",
       "      <td>73.06</td>\n",
       "    </tr>\n",
       "    <tr>\n",
       "      <th>2020-09-01</th>\n",
       "      <td>77.0</td>\n",
       "      <td>68.76</td>\n",
       "    </tr>\n",
       "    <tr>\n",
       "      <th>2020-10-01</th>\n",
       "      <td>60.0</td>\n",
       "      <td>77.94</td>\n",
       "    </tr>\n",
       "    <tr>\n",
       "      <th>2020-11-01</th>\n",
       "      <td>74.0</td>\n",
       "      <td>77.43</td>\n",
       "    </tr>\n",
       "    <tr>\n",
       "      <th>2020-12-01</th>\n",
       "      <td>97.0</td>\n",
       "      <td>77.32</td>\n",
       "    </tr>\n",
       "    <tr>\n",
       "      <th>2021-01-01</th>\n",
       "      <td>177.0</td>\n",
       "      <td>80.10</td>\n",
       "    </tr>\n",
       "    <tr>\n",
       "      <th>2021-02-01</th>\n",
       "      <td>152.0</td>\n",
       "      <td>80.18</td>\n",
       "    </tr>\n",
       "    <tr>\n",
       "      <th>2021-03-01</th>\n",
       "      <td>167.0</td>\n",
       "      <td>80.29</td>\n",
       "    </tr>\n",
       "    <tr>\n",
       "      <th>2021-04-01</th>\n",
       "      <td>194.0</td>\n",
       "      <td>77.37</td>\n",
       "    </tr>\n",
       "    <tr>\n",
       "      <th>2021-05-01</th>\n",
       "      <td>311.0</td>\n",
       "      <td>79.26</td>\n",
       "    </tr>\n",
       "    <tr>\n",
       "      <th>2021-06-01</th>\n",
       "      <td>273.0</td>\n",
       "      <td>80.33</td>\n",
       "    </tr>\n",
       "    <tr>\n",
       "      <th>2021-07-01</th>\n",
       "      <td>242.0</td>\n",
       "      <td>72.94</td>\n",
       "    </tr>\n",
       "    <tr>\n",
       "      <th>2021-08-01</th>\n",
       "      <td>366.0</td>\n",
       "      <td>73.23</td>\n",
       "    </tr>\n",
       "    <tr>\n",
       "      <th>2021-09-01</th>\n",
       "      <td>347.0</td>\n",
       "      <td>74.70</td>\n",
       "    </tr>\n",
       "    <tr>\n",
       "      <th>2021-10-01</th>\n",
       "      <td>344.0</td>\n",
       "      <td>78.61</td>\n",
       "    </tr>\n",
       "    <tr>\n",
       "      <th>2021-11-01</th>\n",
       "      <td>475.0</td>\n",
       "      <td>82.93</td>\n",
       "    </tr>\n",
       "    <tr>\n",
       "      <th>2021-12-01</th>\n",
       "      <td>695.0</td>\n",
       "      <td>83.13</td>\n",
       "    </tr>\n",
       "  </tbody>\n",
       "</table>\n",
       "</div>"
      ],
      "text/plain": [
       "            KasusDBD  RHavg\n",
       "Tahun                      \n",
       "2020-01-01     248.0  81.29\n",
       "2020-02-01     330.0  83.69\n",
       "2020-03-01     479.0  81.13\n",
       "2020-04-01     409.0  82.07\n",
       "2020-05-01     365.0  81.74\n",
       "2020-06-01     335.0  76.20\n",
       "2020-07-01     209.0  73.55\n",
       "2020-08-01     107.0  73.06\n",
       "2020-09-01      77.0  68.76\n",
       "2020-10-01      60.0  77.94\n",
       "2020-11-01      74.0  77.43\n",
       "2020-12-01      97.0  77.32\n",
       "2021-01-01     177.0  80.10\n",
       "2021-02-01     152.0  80.18\n",
       "2021-03-01     167.0  80.29\n",
       "2021-04-01     194.0  77.37\n",
       "2021-05-01     311.0  79.26\n",
       "2021-06-01     273.0  80.33\n",
       "2021-07-01     242.0  72.94\n",
       "2021-08-01     366.0  73.23\n",
       "2021-09-01     347.0  74.70\n",
       "2021-10-01     344.0  78.61\n",
       "2021-11-01     475.0  82.93\n",
       "2021-12-01     695.0  83.13"
      ]
     },
     "execution_count": 371,
     "metadata": {},
     "output_type": "execute_result"
    }
   ],
   "source": [
    "data=dataTA[['KasusDBD', 'RHavg']]\n",
    "data.columns = ['KasusDBD', 'RHavg']\n",
    "data.tail(24)"
   ]
  },
  {
   "cell_type": "markdown",
   "metadata": {},
   "source": [
    "UJI KORELASI"
   ]
  },
  {
   "cell_type": "code",
   "execution_count": 372,
   "metadata": {},
   "outputs": [
    {
     "data": {
      "text/html": [
       "<div>\n",
       "<style scoped>\n",
       "    .dataframe tbody tr th:only-of-type {\n",
       "        vertical-align: middle;\n",
       "    }\n",
       "\n",
       "    .dataframe tbody tr th {\n",
       "        vertical-align: top;\n",
       "    }\n",
       "\n",
       "    .dataframe thead th {\n",
       "        text-align: right;\n",
       "    }\n",
       "</style>\n",
       "<table border=\"1\" class=\"dataframe\">\n",
       "  <thead>\n",
       "    <tr style=\"text-align: right;\">\n",
       "      <th></th>\n",
       "      <th>KasusDBD</th>\n",
       "      <th>RHavg</th>\n",
       "    </tr>\n",
       "  </thead>\n",
       "  <tbody>\n",
       "    <tr>\n",
       "      <th>KasusDBD</th>\n",
       "      <td>1.000000</td>\n",
       "      <td>0.315865</td>\n",
       "    </tr>\n",
       "    <tr>\n",
       "      <th>RHavg</th>\n",
       "      <td>0.315865</td>\n",
       "      <td>1.000000</td>\n",
       "    </tr>\n",
       "  </tbody>\n",
       "</table>\n",
       "</div>"
      ],
      "text/plain": [
       "          KasusDBD     RHavg\n",
       "KasusDBD  1.000000  0.315865\n",
       "RHavg     0.315865  1.000000"
      ]
     },
     "execution_count": 372,
     "metadata": {},
     "output_type": "execute_result"
    }
   ],
   "source": [
    "data.corr()"
   ]
  },
  {
   "cell_type": "markdown",
   "metadata": {},
   "source": [
    "NORMALISASI DATA"
   ]
  },
  {
   "cell_type": "code",
   "execution_count": 373,
   "metadata": {},
   "outputs": [],
   "source": [
    "max_kasus = data['KasusDBD'].max()\n",
    "max_kelembapan = data['RHavg'].max()\n"
   ]
  },
  {
   "cell_type": "code",
   "execution_count": 374,
   "metadata": {},
   "outputs": [
    {
     "name": "stderr",
     "output_type": "stream",
     "text": [
      "C:\\Users\\asus\\AppData\\Local\\Temp\\ipykernel_22708\\1201687390.py:1: SettingWithCopyWarning: \n",
      "A value is trying to be set on a copy of a slice from a DataFrame.\n",
      "Try using .loc[row_indexer,col_indexer] = value instead\n",
      "\n",
      "See the caveats in the documentation: https://pandas.pydata.org/pandas-docs/stable/user_guide/indexing.html#returning-a-view-versus-a-copy\n",
      "  data['KasusDBD'] = data['KasusDBD']/max_kasus\n",
      "C:\\Users\\asus\\AppData\\Local\\Temp\\ipykernel_22708\\1201687390.py:2: SettingWithCopyWarning: \n",
      "A value is trying to be set on a copy of a slice from a DataFrame.\n",
      "Try using .loc[row_indexer,col_indexer] = value instead\n",
      "\n",
      "See the caveats in the documentation: https://pandas.pydata.org/pandas-docs/stable/user_guide/indexing.html#returning-a-view-versus-a-copy\n",
      "  data['RHavg'] = data['RHavg']/max_kelembapan\n"
     ]
    },
    {
     "data": {
      "text/html": [
       "<div>\n",
       "<style scoped>\n",
       "    .dataframe tbody tr th:only-of-type {\n",
       "        vertical-align: middle;\n",
       "    }\n",
       "\n",
       "    .dataframe tbody tr th {\n",
       "        vertical-align: top;\n",
       "    }\n",
       "\n",
       "    .dataframe thead th {\n",
       "        text-align: right;\n",
       "    }\n",
       "</style>\n",
       "<table border=\"1\" class=\"dataframe\">\n",
       "  <thead>\n",
       "    <tr style=\"text-align: right;\">\n",
       "      <th></th>\n",
       "      <th>KasusDBD</th>\n",
       "      <th>RHavg</th>\n",
       "    </tr>\n",
       "    <tr>\n",
       "      <th>Tahun</th>\n",
       "      <th></th>\n",
       "      <th></th>\n",
       "    </tr>\n",
       "  </thead>\n",
       "  <tbody>\n",
       "    <tr>\n",
       "      <th>2012-01-01</th>\n",
       "      <td>0.522782</td>\n",
       "      <td>0.925086</td>\n",
       "    </tr>\n",
       "    <tr>\n",
       "      <th>2012-02-01</th>\n",
       "      <td>0.591127</td>\n",
       "      <td>0.938685</td>\n",
       "    </tr>\n",
       "    <tr>\n",
       "      <th>2012-03-01</th>\n",
       "      <td>0.622302</td>\n",
       "      <td>0.888465</td>\n",
       "    </tr>\n",
       "    <tr>\n",
       "      <th>2012-04-01</th>\n",
       "      <td>0.577938</td>\n",
       "      <td>0.966241</td>\n",
       "    </tr>\n",
       "    <tr>\n",
       "      <th>2012-05-01</th>\n",
       "      <td>0.687050</td>\n",
       "      <td>0.921269</td>\n",
       "    </tr>\n",
       "    <tr>\n",
       "      <th>...</th>\n",
       "      <td>...</td>\n",
       "      <td>...</td>\n",
       "    </tr>\n",
       "    <tr>\n",
       "      <th>2021-08-01</th>\n",
       "      <td>0.438849</td>\n",
       "      <td>0.873554</td>\n",
       "    </tr>\n",
       "    <tr>\n",
       "      <th>2021-09-01</th>\n",
       "      <td>0.416067</td>\n",
       "      <td>0.891089</td>\n",
       "    </tr>\n",
       "    <tr>\n",
       "      <th>2021-10-01</th>\n",
       "      <td>0.412470</td>\n",
       "      <td>0.937731</td>\n",
       "    </tr>\n",
       "    <tr>\n",
       "      <th>2021-11-01</th>\n",
       "      <td>0.569544</td>\n",
       "      <td>0.989264</td>\n",
       "    </tr>\n",
       "    <tr>\n",
       "      <th>2021-12-01</th>\n",
       "      <td>0.833333</td>\n",
       "      <td>0.991650</td>\n",
       "    </tr>\n",
       "  </tbody>\n",
       "</table>\n",
       "<p>120 rows × 2 columns</p>\n",
       "</div>"
      ],
      "text/plain": [
       "            KasusDBD     RHavg\n",
       "Tahun                         \n",
       "2012-01-01  0.522782  0.925086\n",
       "2012-02-01  0.591127  0.938685\n",
       "2012-03-01  0.622302  0.888465\n",
       "2012-04-01  0.577938  0.966241\n",
       "2012-05-01  0.687050  0.921269\n",
       "...              ...       ...\n",
       "2021-08-01  0.438849  0.873554\n",
       "2021-09-01  0.416067  0.891089\n",
       "2021-10-01  0.412470  0.937731\n",
       "2021-11-01  0.569544  0.989264\n",
       "2021-12-01  0.833333  0.991650\n",
       "\n",
       "[120 rows x 2 columns]"
      ]
     },
     "execution_count": 374,
     "metadata": {},
     "output_type": "execute_result"
    }
   ],
   "source": [
    "data['KasusDBD'] = data['KasusDBD']/max_kasus\n",
    "data['RHavg'] = data['RHavg']/max_kelembapan\n",
    "data"
   ]
  },
  {
   "cell_type": "markdown",
   "metadata": {},
   "source": [
    "UJI STASIONER"
   ]
  },
  {
   "cell_type": "code",
   "execution_count": 375,
   "metadata": {},
   "outputs": [
    {
     "name": "stdout",
     "output_type": "stream",
     "text": [
      "Results of Dickey-Fuller Test for column: KasusDBD\n",
      "Test Statistic                  -4.822679\n",
      "p-value                          0.000049\n",
      "No Lags Used                     4.000000\n",
      "Number of Observations Used    115.000000\n",
      "Critical Value (1%)             -3.488535\n",
      "Critical Value (5%)             -2.887020\n",
      "Critical Value (10%)            -2.580360\n",
      "dtype: float64\n",
      "Conclusion:====>\n",
      "Reject the null hypothesis\n",
      "Data is stationary\n",
      "\n",
      "\n",
      "Results of Dickey-Fuller Test for column: RHavg\n",
      "Test Statistic                  -2.621707\n",
      "p-value                          0.088593\n",
      "No Lags Used                    13.000000\n",
      "Number of Observations Used    106.000000\n",
      "Critical Value (1%)             -3.493602\n",
      "Critical Value (5%)             -2.889217\n",
      "Critical Value (10%)            -2.581533\n",
      "dtype: float64\n",
      "Conclusion:====>\n",
      "Fail to reject the null hypothesis\n",
      "Data is non-stationary\n",
      "\n",
      "\n"
     ]
    }
   ],
   "source": [
    "for name, column in data.iteritems():\n",
    "    Augmented_Dickey_Fuller_Test_func(data[name],name)\n",
    "    print('\\n')"
   ]
  },
  {
   "cell_type": "markdown",
   "metadata": {},
   "source": [
    "TRAIN TEST SPLIT"
   ]
  },
  {
   "cell_type": "code",
   "execution_count": 376,
   "metadata": {},
   "outputs": [
    {
     "data": {
      "text/html": [
       "<div>\n",
       "<style scoped>\n",
       "    .dataframe tbody tr th:only-of-type {\n",
       "        vertical-align: middle;\n",
       "    }\n",
       "\n",
       "    .dataframe tbody tr th {\n",
       "        vertical-align: top;\n",
       "    }\n",
       "\n",
       "    .dataframe thead th {\n",
       "        text-align: right;\n",
       "    }\n",
       "</style>\n",
       "<table border=\"1\" class=\"dataframe\">\n",
       "  <thead>\n",
       "    <tr style=\"text-align: right;\">\n",
       "      <th></th>\n",
       "      <th>KasusDBD</th>\n",
       "      <th>RHavg</th>\n",
       "    </tr>\n",
       "    <tr>\n",
       "      <th>Tahun</th>\n",
       "      <th></th>\n",
       "      <th></th>\n",
       "    </tr>\n",
       "  </thead>\n",
       "  <tbody>\n",
       "    <tr>\n",
       "      <th>2012-03-01</th>\n",
       "      <td>0.099520</td>\n",
       "      <td>-0.036622</td>\n",
       "    </tr>\n",
       "    <tr>\n",
       "      <th>2012-04-01</th>\n",
       "      <td>-0.013189</td>\n",
       "      <td>0.027556</td>\n",
       "    </tr>\n",
       "    <tr>\n",
       "      <th>2012-05-01</th>\n",
       "      <td>0.064748</td>\n",
       "      <td>0.032804</td>\n",
       "    </tr>\n",
       "    <tr>\n",
       "      <th>2012-06-01</th>\n",
       "      <td>0.065947</td>\n",
       "      <td>-0.077538</td>\n",
       "    </tr>\n",
       "    <tr>\n",
       "      <th>2012-07-01</th>\n",
       "      <td>-0.142686</td>\n",
       "      <td>-0.072408</td>\n",
       "    </tr>\n",
       "    <tr>\n",
       "      <th>...</th>\n",
       "      <td>...</td>\n",
       "      <td>...</td>\n",
       "    </tr>\n",
       "    <tr>\n",
       "      <th>2021-05-01</th>\n",
       "      <td>0.172662</td>\n",
       "      <td>-0.012287</td>\n",
       "    </tr>\n",
       "    <tr>\n",
       "      <th>2021-06-01</th>\n",
       "      <td>0.094724</td>\n",
       "      <td>0.035310</td>\n",
       "    </tr>\n",
       "    <tr>\n",
       "      <th>2021-07-01</th>\n",
       "      <td>-0.082734</td>\n",
       "      <td>-0.075391</td>\n",
       "    </tr>\n",
       "    <tr>\n",
       "      <th>2021-08-01</th>\n",
       "      <td>0.111511</td>\n",
       "      <td>-0.084695</td>\n",
       "    </tr>\n",
       "    <tr>\n",
       "      <th>2021-09-01</th>\n",
       "      <td>0.125899</td>\n",
       "      <td>0.020995</td>\n",
       "    </tr>\n",
       "  </tbody>\n",
       "</table>\n",
       "<p>115 rows × 2 columns</p>\n",
       "</div>"
      ],
      "text/plain": [
       "            KasusDBD     RHavg\n",
       "Tahun                         \n",
       "2012-03-01  0.099520 -0.036622\n",
       "2012-04-01 -0.013189  0.027556\n",
       "2012-05-01  0.064748  0.032804\n",
       "2012-06-01  0.065947 -0.077538\n",
       "2012-07-01 -0.142686 -0.072408\n",
       "...              ...       ...\n",
       "2021-05-01  0.172662 -0.012287\n",
       "2021-06-01  0.094724  0.035310\n",
       "2021-07-01 -0.082734 -0.075391\n",
       "2021-08-01  0.111511 -0.084695\n",
       "2021-09-01  0.125899  0.020995\n",
       "\n",
       "[115 rows x 2 columns]"
      ]
     },
     "execution_count": 376,
     "metadata": {},
     "output_type": "execute_result"
    }
   ],
   "source": [
    "n = 3\n",
    "train,test = data[0:-n], data[-n:]\n",
    "train_diff=train.diff(periods=2)\n",
    "train_diff.dropna(inplace=True)\n",
    "train_diff"
   ]
  },
  {
   "cell_type": "code",
   "execution_count": 377,
   "metadata": {},
   "outputs": [
    {
     "name": "stdout",
     "output_type": "stream",
     "text": [
      "Results of Dickey-Fuller Test for column: KasusDBD\n",
      "Test Statistic                  -4.200822\n",
      "p-value                          0.000657\n",
      "No Lags Used                    10.000000\n",
      "Number of Observations Used    104.000000\n",
      "Critical Value (1%)             -3.494850\n",
      "Critical Value (5%)             -2.889758\n",
      "Critical Value (10%)            -2.581822\n",
      "dtype: float64\n",
      "Conclusion:====>\n",
      "Reject the null hypothesis\n",
      "Data is stationary\n",
      "\n",
      "\n",
      "Results of Dickey-Fuller Test for column: RHavg\n",
      "Test Statistic                -8.757188e+00\n",
      "p-value                        2.735192e-14\n",
      "No Lags Used                   9.000000e+00\n",
      "Number of Observations Used    1.050000e+02\n",
      "Critical Value (1%)           -3.494220e+00\n",
      "Critical Value (5%)           -2.889485e+00\n",
      "Critical Value (10%)          -2.581676e+00\n",
      "dtype: float64\n",
      "Conclusion:====>\n",
      "Reject the null hypothesis\n",
      "Data is stationary\n",
      "\n",
      "\n"
     ]
    }
   ],
   "source": [
    "for name, column in train_diff.iteritems():\n",
    "    Augmented_Dickey_Fuller_Test_func(train_diff[name],name)\n",
    "    print('\\n')"
   ]
  },
  {
   "cell_type": "code",
   "execution_count": 378,
   "metadata": {},
   "outputs": [
    {
     "name": "stdout",
     "output_type": "stream",
     "text": [
      "Column Name   >  Test Stat > C(95%)    =>   Signif  \n",
      " ----------------------------------------\n",
      "KasusDBD  >  93.6      > 12.3212   =>   True\n",
      "RHavg   >  33.33     > 4.1296    =>   True\n"
     ]
    }
   ],
   "source": [
    "cointegration_test(train_diff[['KasusDBD','RHavg']])"
   ]
  },
  {
   "cell_type": "code",
   "execution_count": 379,
   "metadata": {},
   "outputs": [
    {
     "data": {
      "text/plain": [
       "Text(0.5, 1.0, 'Partial Autocorrelation Function KasusDBD')"
      ]
     },
     "execution_count": 379,
     "metadata": {},
     "output_type": "execute_result"
    },
    {
     "data": {
      "image/png": "[encoded data removed]",
      "text/plain": [
       "<Figure size 432x288 with 2 Axes>"
      ]
     },
     "metadata": {
      "needs_background": "light"
     },
     "output_type": "display_data"
    }
   ],
   "source": [
    "#KASUS DBD\n",
    "kasusDBD_acf = acf(train_diff['KasusDBD'], nlags=24)\n",
    "kasusDBD_pacf = pacf(train_diff['KasusDBD'], nlags=24, method='ols')\n",
    "\n",
    "#Plot ACF: \n",
    "plt.subplot(311) \n",
    "plt.plot(kasusDBD_acf)\n",
    "plt.axhline(y=0,linestyle='--',color='gray')\n",
    "plt.axhline(y=-1.96/np.sqrt(len(train_diff['KasusDBD'])),linestyle='--',color='gray')\n",
    "plt.axhline(y=1.96/np.sqrt(len(train_diff['KasusDBD'])),linestyle='--',color='gray')\n",
    "plt.title(f'Autocorrelation Function KasusDBD')\n",
    "\n",
    "#Plot PACF:\n",
    "plt.subplot(313)\n",
    "plt.plot(kasusDBD_pacf)\n",
    "plt.axhline(y=0,linestyle='--',color='gray')\n",
    "plt.axhline(y=-1.96/np.sqrt(len(train_diff['KasusDBD'])),linestyle='--',color='gray')\n",
    "plt.axhline(y=1.96/np.sqrt(len(train_diff['KasusDBD'])),linestyle='--',color='gray')\n",
    "plt.title(f'Partial Autocorrelation Function KasusDBD')"
   ]
  },
  {
   "cell_type": "code",
   "execution_count": 380,
   "metadata": {},
   "outputs": [
    {
     "data": {
      "text/plain": [
       "Text(0.5, 1.0, 'Partial Autocorrelation Function RHAVG')"
      ]
     },
     "execution_count": 380,
     "metadata": {},
     "output_type": "execute_result"
    },
    {
     "data": {
      "image/png": "[encoded data removed]",
      "text/plain": [
       "<Figure size 432x288 with 2 Axes>"
      ]
     },
     "metadata": {
      "needs_background": "light"
     },
     "output_type": "display_data"
    }
   ],
   "source": [
    "#RHAVG\n",
    "rhavg_acf = acf(train_diff['RHavg'], nlags=24)\n",
    "rhavg_pacf = pacf(train_diff['RHavg'], nlags=24, method='ols')\n",
    "\n",
    "#Plot ACF: \n",
    "plt.subplot(311) \n",
    "plt.plot(rhavg_acf)\n",
    "plt.axhline(y=0,linestyle='--',color='gray')\n",
    "plt.axhline(y=-1.96/np.sqrt(len(train_diff['RHavg'])),linestyle='--',color='gray')\n",
    "plt.axhline(y=1.96/np.sqrt(len(train_diff['RHavg'])),linestyle='--',color='gray')\n",
    "plt.title(f'Autocorrelation Function RHAVG')\n",
    "\n",
    "#Plot PACF:\n",
    "plt.subplot(313)\n",
    "plt.plot(rhavg_pacf)\n",
    "plt.axhline(y=0,linestyle='--',color='gray')\n",
    "plt.axhline(y=-1.96/np.sqrt(len(train_diff['RHavg'])),linestyle='--',color='gray')\n",
    "plt.axhline(y=1.96/np.sqrt(len(train_diff['RHavg'])),linestyle='--',color='gray')\n",
    "plt.title(f'Partial Autocorrelation Function RHAVG')"
   ]
  },
  {
   "cell_type": "markdown",
   "metadata": {},
   "source": [
    "AUTO ARIMA"
   ]
  },
  {
   "cell_type": "code",
   "execution_count": 381,
   "metadata": {},
   "outputs": [
    {
     "name": "stdout",
     "output_type": "stream",
     "text": [
      "Searching order of p and q for : KasusDBD\n",
      "Performing stepwise search to minimize aic\n",
      " ARIMA(1,0,1)(0,0,0)[0]             : AIC=inf, Time=0.19 sec\n",
      " ARIMA(0,0,0)(0,0,0)[0]             : AIC=-53.804, Time=0.01 sec\n",
      " ARIMA(1,0,0)(0,0,0)[0]             : AIC=-90.393, Time=0.02 sec\n",
      " ARIMA(0,0,1)(0,0,0)[0]             : AIC=inf, Time=0.12 sec\n",
      " ARIMA(2,0,0)(0,0,0)[0]             : AIC=-106.089, Time=0.07 sec\n",
      " ARIMA(3,0,0)(0,0,0)[0]             : AIC=-108.406, Time=0.11 sec\n",
      " ARIMA(4,0,0)(0,0,0)[0]             : AIC=-126.498, Time=0.20 sec\n",
      " ARIMA(5,0,0)(0,0,0)[0]             : AIC=-125.778, Time=0.18 sec\n",
      " ARIMA(4,0,1)(0,0,0)[0]             : AIC=inf, Time=0.53 sec\n",
      " ARIMA(3,0,1)(0,0,0)[0]             : AIC=inf, Time=0.56 sec\n",
      " ARIMA(5,0,1)(0,0,0)[0]             : AIC=inf, Time=0.58 sec\n",
      " ARIMA(4,0,0)(0,0,0)[0] intercept   : AIC=-124.530, Time=0.22 sec\n",
      "\n",
      "Best model:  ARIMA(4,0,0)(0,0,0)[0]          \n",
      "Total fit time: 2.792 seconds\n",
      "optimal order for:KasusDBD is: (4, 0, 0) \n",
      "\n",
      "\n",
      "Searching order of p and q for : RHavg\n",
      "Performing stepwise search to minimize aic\n",
      " ARIMA(1,0,1)(0,0,0)[0]             : AIC=inf, Time=0.15 sec\n",
      " ARIMA(0,0,0)(0,0,0)[0]             : AIC=-258.326, Time=0.01 sec\n",
      " ARIMA(1,0,0)(0,0,0)[0]             : AIC=-283.084, Time=0.02 sec\n",
      " ARIMA(0,0,1)(0,0,0)[0]             : AIC=inf, Time=0.11 sec\n",
      " ARIMA(2,0,0)(0,0,0)[0]             : AIC=-314.441, Time=0.08 sec\n",
      " ARIMA(3,0,0)(0,0,0)[0]             : AIC=-315.457, Time=0.13 sec\n",
      " ARIMA(4,0,0)(0,0,0)[0]             : AIC=-323.728, Time=0.13 sec\n",
      " ARIMA(5,0,0)(0,0,0)[0]             : AIC=-321.729, Time=0.19 sec\n",
      " ARIMA(4,0,1)(0,0,0)[0]             : AIC=-340.820, Time=0.57 sec\n",
      " ARIMA(3,0,1)(0,0,0)[0]             : AIC=inf, Time=0.47 sec\n",
      " ARIMA(5,0,1)(0,0,0)[0]             : AIC=-338.919, Time=0.71 sec\n",
      " ARIMA(4,0,2)(0,0,0)[0]             : AIC=inf, Time=0.77 sec\n",
      " ARIMA(3,0,2)(0,0,0)[0]             : AIC=inf, Time=0.57 sec\n",
      " ARIMA(5,0,2)(0,0,0)[0]             : AIC=inf, Time=0.83 sec\n",
      " ARIMA(4,0,1)(0,0,0)[0] intercept   : AIC=-338.823, Time=0.65 sec\n",
      "\n",
      "Best model:  ARIMA(4,0,1)(0,0,0)[0]          \n",
      "Total fit time: 5.387 seconds\n",
      "optimal order for:RHavg is: (4, 0, 1) \n",
      "\n",
      "\n"
     ]
    }
   ],
   "source": [
    "pq = []\n",
    "for name, column in train_diff[['KasusDBD', 'RHavg']].iteritems():\n",
    "    print(f'Searching order of p and q for : {name}')\n",
    "    stepwise_model = auto_arima(train_diff[name],start_p=1, start_q=1,max_p=6, max_q=6, seasonal=False,\n",
    "        trace=True,error_action='ignore',suppress_warnings=True, stepwise=True,maxiter=1000)\n",
    "    parameter = stepwise_model.get_params().get('order')\n",
    "    print(f'optimal order for:{name} is: {parameter} \\n\\n')\n",
    "    pq.append(stepwise_model.get_params().get('order'))"
   ]
  },
  {
   "cell_type": "markdown",
   "metadata": {},
   "source": [
    "VARMA MODEL ORDER SELECTION"
   ]
  },
  {
   "cell_type": "code",
   "execution_count": 382,
   "metadata": {},
   "outputs": [
    {
     "name": "stderr",
     "output_type": "stream",
     "text": [
      "c:\\Users\\asus\\AppData\\Local\\Programs\\Python\\Python38\\lib\\site-packages\\statsmodels\\base\\model.py:604: ConvergenceWarning: Maximum Likelihood optimization failed to converge. Check mle_retvals\n",
      "  warnings.warn(\"Maximum Likelihood optimization failed to \"\n"
     ]
    },
    {
     "name": "stdout",
     "output_type": "stream",
     "text": [
      "VARMA Order (4, 0, 0)\n",
      "AIC -508.048524300885\n",
      "BIC -450.4049496052567\n",
      "\n"
     ]
    },
    {
     "name": "stderr",
     "output_type": "stream",
     "text": [
      "c:\\Users\\asus\\AppData\\Local\\Programs\\Python\\Python38\\lib\\site-packages\\statsmodels\\tsa\\statespace\\varmax.py:161: EstimationWarning: Estimation of VARMA(p,q) models is not generically robust, due especially to identification issues.\n",
      "  warn('Estimation of VARMA(p,q) models is not generically robust,'\n",
      "c:\\Users\\asus\\AppData\\Local\\Programs\\Python\\Python38\\lib\\site-packages\\statsmodels\\base\\model.py:604: ConvergenceWarning: Maximum Likelihood optimization failed to converge. Check mle_retvals\n",
      "  warnings.warn(\"Maximum Likelihood optimization failed to \"\n"
     ]
    },
    {
     "name": "stdout",
     "output_type": "stream",
     "text": [
      "VARMA Order (4, 0, 1)\n",
      "AIC -507.2160092762375\n",
      "BIC -438.59270606715626\n",
      "\n"
     ]
    }
   ],
   "source": [
    "for i in pq:\n",
    "    if i[0]== 0 and i[2] ==0:\n",
    "        pass\n",
    "    else:\n",
    "        model = VARMAX(train_diff, order=(i[0],i[2]))\n",
    "        result=model.fit( disp=False)\n",
    "        print(f'VARMA Order {i}')\n",
    "        print('AIC {}'.format(result.aic))\n",
    "        print('BIC {}'.format(result.bic))\n",
    "        print()\n"
   ]
  },
  {
   "cell_type": "code",
   "execution_count": 383,
   "metadata": {},
   "outputs": [
    {
     "name": "stderr",
     "output_type": "stream",
     "text": [
      "c:\\Users\\asus\\AppData\\Local\\Programs\\Python\\Python38\\lib\\site-packages\\statsmodels\\base\\model.py:604: ConvergenceWarning: Maximum Likelihood optimization failed to converge. Check mle_retvals\n",
      "  warnings.warn(\"Maximum Likelihood optimization failed to \"\n"
     ]
    },
    {
     "name": "stdout",
     "output_type": "stream",
     "text": [
      "                             Statespace Model Results                            \n",
      "=================================================================================\n",
      "Dep. Variable:     ['KasusDBD', 'RHavg']   No. Observations:                  115\n",
      "Model:                            VAR(4)   Log Likelihood                 275.024\n",
      "                             + intercept   AIC                           -508.049\n",
      "Date:                   Thu, 18 Aug 2022   BIC                           -450.405\n",
      "Time:                           15:10:47   HQIC                          -484.651\n",
      "Sample:                       03-01-2012                                         \n",
      "                            - 09-01-2021                                         \n",
      "Covariance Type:                     opg                                         \n",
      "===================================================================================\n",
      "Ljung-Box (L1) (Q):             0.02, 0.06   Jarque-Bera (JB):         121.84, 1.03\n",
      "Prob(Q):                        0.88, 0.81   Prob(JB):                   0.00, 0.60\n",
      "Heteroskedasticity (H):         1.87, 1.33   Skew:                       1.01, 0.18\n",
      "Prob(H) (two-sided):            0.06, 0.38   Kurtosis:                   7.62, 3.29\n",
      "                         Results for equation KasusDBD                         \n",
      "===============================================================================\n",
      "                  coef    std err          z      P>|z|      [0.025      0.975]\n",
      "-------------------------------------------------------------------------------\n",
      "intercept      -0.0021      0.013     -0.154      0.878      -0.028       0.024\n",
      "L1.KasusDBD     0.6184      0.144      4.281      0.000       0.335       0.902\n",
      "L1.RHavg        0.4296      0.234      1.834      0.067      -0.029       0.889\n",
      "L2.KasusDBD    -0.6523      0.151     -4.314      0.000      -0.949      -0.356\n",
      "L2.RHavg        1.0487      0.278      3.774      0.000       0.504       1.593\n",
      "L3.KasusDBD     0.3797      0.142      2.675      0.007       0.101       0.658\n",
      "L3.RHavg       -0.1079      0.350     -0.309      0.758      -0.793       0.577\n",
      "L4.KasusDBD    -0.2485      0.114     -2.179      0.029      -0.472      -0.025\n",
      "L4.RHavg        0.2170      0.305      0.711      0.477      -0.381       0.815\n",
      "                           Results for equation RHavg                          \n",
      "===============================================================================\n",
      "                  coef    std err          z      P>|z|      [0.025      0.975]\n",
      "-------------------------------------------------------------------------------\n",
      "intercept      -0.0002      0.006     -0.024      0.981      -0.013       0.012\n",
      "L1.KasusDBD     0.1380      0.062      2.237      0.025       0.017       0.259\n",
      "L1.RHavg        0.6885      0.130      5.277      0.000       0.433       0.944\n",
      "L2.KasusDBD    -0.0997      0.085     -1.169      0.242      -0.267       0.067\n",
      "L2.RHavg       -0.7956      0.145     -5.497      0.000      -1.079      -0.512\n",
      "L3.KasusDBD     0.0930      0.074      1.257      0.209      -0.052       0.238\n",
      "L3.RHavg        0.1823      0.170      1.072      0.284      -0.151       0.516\n",
      "L4.KasusDBD    -0.1245      0.055     -2.280      0.023      -0.232      -0.017\n",
      "L4.RHavg       -0.2235      0.159     -1.406      0.160      -0.535       0.088\n",
      "                                  Error covariance matrix                                  \n",
      "===========================================================================================\n",
      "                              coef    std err          z      P>|z|      [0.025      0.975]\n",
      "-------------------------------------------------------------------------------------------\n",
      "sqrt.var.KasusDBD           0.1048      0.008     13.309      0.000       0.089       0.120\n",
      "sqrt.cov.KasusDBD.RHavg     0.0142      0.008      1.764      0.078      -0.002       0.030\n",
      "sqrt.var.RHavg              0.0503      0.004     13.138      0.000       0.043       0.058\n",
      "===========================================================================================\n",
      "\n",
      "Warnings:\n",
      "[1] Covariance matrix calculated using the outer product of gradients (complex-step).\n"
     ]
    }
   ],
   "source": [
    "varma_model = VARMAX(train_diff[['KasusDBD','RHavg']], order=(4,0),enforce_stationarity= True)\n",
    "fitted_model = varma_model.fit(disp=False)\n",
    "print(fitted_model.summary())"
   ]
  },
  {
   "cell_type": "markdown",
   "metadata": {},
   "source": [
    "PREDIKSI KASUS DBD"
   ]
  },
  {
   "cell_type": "code",
   "execution_count": 384,
   "metadata": {},
   "outputs": [
    {
     "data": {
      "text/html": [
       "<div>\n",
       "<style scoped>\n",
       "    .dataframe tbody tr th:only-of-type {\n",
       "        vertical-align: middle;\n",
       "    }\n",
       "\n",
       "    .dataframe tbody tr th {\n",
       "        vertical-align: top;\n",
       "    }\n",
       "\n",
       "    .dataframe thead th {\n",
       "        text-align: right;\n",
       "    }\n",
       "</style>\n",
       "<table border=\"1\" class=\"dataframe\">\n",
       "  <thead>\n",
       "    <tr style=\"text-align: right;\">\n",
       "      <th></th>\n",
       "      <th>KasusDBD</th>\n",
       "      <th>RHavg</th>\n",
       "    </tr>\n",
       "  </thead>\n",
       "  <tbody>\n",
       "    <tr>\n",
       "      <th>2021-10-01</th>\n",
       "      <td>-0.115909</td>\n",
       "      <td>0.046816</td>\n",
       "    </tr>\n",
       "    <tr>\n",
       "      <th>2021-11-01</th>\n",
       "      <td>-0.058062</td>\n",
       "      <td>0.008908</td>\n",
       "    </tr>\n",
       "    <tr>\n",
       "      <th>2021-12-01</th>\n",
       "      <td>0.090001</td>\n",
       "      <td>-0.007144</td>\n",
       "    </tr>\n",
       "  </tbody>\n",
       "</table>\n",
       "</div>"
      ],
      "text/plain": [
       "            KasusDBD     RHavg\n",
       "2021-10-01 -0.115909  0.046816\n",
       "2021-11-01 -0.058062  0.008908\n",
       "2021-12-01  0.090001 -0.007144"
      ]
     },
     "execution_count": 384,
     "metadata": {},
     "output_type": "execute_result"
    }
   ],
   "source": [
    "m = len(train_diff)\n",
    "predict = fitted_model.get_prediction(start=m,end=m+n-1)\n",
    "prediction=predict.predicted_mean\n",
    "prediction"
   ]
  },
  {
   "cell_type": "code",
   "execution_count": 385,
   "metadata": {},
   "outputs": [
    {
     "data": {
      "text/html": [
       "<div>\n",
       "<style scoped>\n",
       "    .dataframe tbody tr th:only-of-type {\n",
       "        vertical-align: middle;\n",
       "    }\n",
       "\n",
       "    .dataframe tbody tr th {\n",
       "        vertical-align: top;\n",
       "    }\n",
       "\n",
       "    .dataframe thead th {\n",
       "        text-align: right;\n",
       "    }\n",
       "</style>\n",
       "<table border=\"1\" class=\"dataframe\">\n",
       "  <thead>\n",
       "    <tr style=\"text-align: right;\">\n",
       "      <th></th>\n",
       "      <th>KasusDBD</th>\n",
       "      <th>RHavg</th>\n",
       "      <th>inv_KasusDBD</th>\n",
       "      <th>inv_RHavg</th>\n",
       "    </tr>\n",
       "  </thead>\n",
       "  <tbody>\n",
       "    <tr>\n",
       "      <th>2021-10-01</th>\n",
       "      <td>-0.115909</td>\n",
       "      <td>0.046816</td>\n",
       "      <td>0.717424</td>\n",
       "      <td>1.038466</td>\n",
       "    </tr>\n",
       "    <tr>\n",
       "      <th>2021-11-01</th>\n",
       "      <td>-0.058062</td>\n",
       "      <td>0.008908</td>\n",
       "      <td>0.659362</td>\n",
       "      <td>1.047375</td>\n",
       "    </tr>\n",
       "    <tr>\n",
       "      <th>2021-12-01</th>\n",
       "      <td>0.090001</td>\n",
       "      <td>-0.007144</td>\n",
       "      <td>0.749362</td>\n",
       "      <td>1.040230</td>\n",
       "    </tr>\n",
       "  </tbody>\n",
       "</table>\n",
       "</div>"
      ],
      "text/plain": [
       "            KasusDBD     RHavg  inv_KasusDBD  inv_RHavg\n",
       "2021-10-01 -0.115909  0.046816      0.717424   1.038466\n",
       "2021-11-01 -0.058062  0.008908      0.659362   1.047375\n",
       "2021-12-01  0.090001 -0.007144      0.749362   1.040230"
      ]
     },
     "execution_count": 385,
     "metadata": {},
     "output_type": "execute_result"
    }
   ],
   "source": [
    "inv_predict = inverse_diff(data,prediction)\n",
    "inv_predict"
   ]
  },
  {
   "cell_type": "code",
   "execution_count": 386,
   "metadata": {},
   "outputs": [
    {
     "data": {
      "text/html": [
       "<div>\n",
       "<style scoped>\n",
       "    .dataframe tbody tr th:only-of-type {\n",
       "        vertical-align: middle;\n",
       "    }\n",
       "\n",
       "    .dataframe tbody tr th {\n",
       "        vertical-align: top;\n",
       "    }\n",
       "\n",
       "    .dataframe thead th {\n",
       "        text-align: right;\n",
       "    }\n",
       "</style>\n",
       "<table border=\"1\" class=\"dataframe\">\n",
       "  <thead>\n",
       "    <tr style=\"text-align: right;\">\n",
       "      <th></th>\n",
       "      <th>KasusDBD</th>\n",
       "      <th>RHavg</th>\n",
       "      <th>inv_KasusDBD</th>\n",
       "      <th>inv_RHavg</th>\n",
       "    </tr>\n",
       "  </thead>\n",
       "  <tbody>\n",
       "    <tr>\n",
       "      <th>2021-10-01</th>\n",
       "      <td>0.412470</td>\n",
       "      <td>0.937731</td>\n",
       "      <td>0.717424</td>\n",
       "      <td>1.038466</td>\n",
       "    </tr>\n",
       "    <tr>\n",
       "      <th>2021-11-01</th>\n",
       "      <td>0.569544</td>\n",
       "      <td>0.989264</td>\n",
       "      <td>0.659362</td>\n",
       "      <td>1.047375</td>\n",
       "    </tr>\n",
       "    <tr>\n",
       "      <th>2021-12-01</th>\n",
       "      <td>0.833333</td>\n",
       "      <td>0.991650</td>\n",
       "      <td>0.749362</td>\n",
       "      <td>1.040230</td>\n",
       "    </tr>\n",
       "  </tbody>\n",
       "</table>\n",
       "</div>"
      ],
      "text/plain": [
       "            KasusDBD     RHavg  inv_KasusDBD  inv_RHavg\n",
       "2021-10-01  0.412470  0.937731      0.717424   1.038466\n",
       "2021-11-01  0.569544  0.989264      0.659362   1.047375\n",
       "2021-12-01  0.833333  0.991650      0.749362   1.040230"
      ]
     },
     "execution_count": 386,
     "metadata": {},
     "output_type": "execute_result"
    }
   ],
   "source": [
    "test_vs_prediction = pd.concat([test,inv_predict[['inv_KasusDBD','inv_RHavg']]],axis=1)\n",
    "test_vs_prediction"
   ]
  },
  {
   "cell_type": "markdown",
   "metadata": {},
   "source": [
    "MENGEMBALIKAN NILAI ASLI"
   ]
  },
  {
   "cell_type": "code",
   "execution_count": 387,
   "metadata": {},
   "outputs": [
    {
     "data": {
      "text/html": [
       "<div>\n",
       "<style scoped>\n",
       "    .dataframe tbody tr th:only-of-type {\n",
       "        vertical-align: middle;\n",
       "    }\n",
       "\n",
       "    .dataframe tbody tr th {\n",
       "        vertical-align: top;\n",
       "    }\n",
       "\n",
       "    .dataframe thead th {\n",
       "        text-align: right;\n",
       "    }\n",
       "</style>\n",
       "<table border=\"1\" class=\"dataframe\">\n",
       "  <thead>\n",
       "    <tr style=\"text-align: right;\">\n",
       "      <th></th>\n",
       "      <th>KasusDBD</th>\n",
       "      <th>RHavg</th>\n",
       "      <th>inv_KasusDBD</th>\n",
       "      <th>inv_RHavg</th>\n",
       "    </tr>\n",
       "  </thead>\n",
       "  <tbody>\n",
       "    <tr>\n",
       "      <th>2021-10-01</th>\n",
       "      <td>344.0</td>\n",
       "      <td>78.61</td>\n",
       "      <td>598.331536</td>\n",
       "      <td>87.054617</td>\n",
       "    </tr>\n",
       "    <tr>\n",
       "      <th>2021-11-01</th>\n",
       "      <td>475.0</td>\n",
       "      <td>82.93</td>\n",
       "      <td>549.907544</td>\n",
       "      <td>87.801412</td>\n",
       "    </tr>\n",
       "    <tr>\n",
       "      <th>2021-12-01</th>\n",
       "      <td>695.0</td>\n",
       "      <td>83.13</td>\n",
       "      <td>624.968061</td>\n",
       "      <td>87.202516</td>\n",
       "    </tr>\n",
       "  </tbody>\n",
       "</table>\n",
       "</div>"
      ],
      "text/plain": [
       "            KasusDBD  RHavg  inv_KasusDBD  inv_RHavg\n",
       "2021-10-01     344.0  78.61    598.331536  87.054617\n",
       "2021-11-01     475.0  82.93    549.907544  87.801412\n",
       "2021-12-01     695.0  83.13    624.968061  87.202516"
      ]
     },
     "execution_count": 387,
     "metadata": {},
     "output_type": "execute_result"
    }
   ],
   "source": [
    "test_vs_prediction['inv_KasusDBD'] = test_vs_prediction['inv_KasusDBD']*max_kasus\n",
    "test_vs_prediction['inv_RHavg'] = test_vs_prediction['inv_RHavg']*max_kelembapan\n",
    "test_vs_prediction['KasusDBD'] = test_vs_prediction['KasusDBD']*dataTA['KasusDBD'].max()\n",
    "test_vs_prediction['RHavg'] = test_vs_prediction['RHavg']*dataTA['RHavg'].max()\n",
    "test_vs_prediction"
   ]
  },
  {
   "cell_type": "markdown",
   "metadata": {},
   "source": [
    "CONVERTING PREDICTION FROM FLOAT TO INTEGER"
   ]
  },
  {
   "cell_type": "code",
   "execution_count": 388,
   "metadata": {},
   "outputs": [
    {
     "data": {
      "text/plain": [
       "KasusDBD        float64\n",
       "RHavg           float64\n",
       "inv_KasusDBD      int64\n",
       "inv_RHavg       float64\n",
       "dtype: object"
      ]
     },
     "metadata": {},
     "output_type": "display_data"
    },
    {
     "data": {
      "text/html": [
       "<div>\n",
       "<style scoped>\n",
       "    .dataframe tbody tr th:only-of-type {\n",
       "        vertical-align: middle;\n",
       "    }\n",
       "\n",
       "    .dataframe tbody tr th {\n",
       "        vertical-align: top;\n",
       "    }\n",
       "\n",
       "    .dataframe thead th {\n",
       "        text-align: right;\n",
       "    }\n",
       "</style>\n",
       "<table border=\"1\" class=\"dataframe\">\n",
       "  <thead>\n",
       "    <tr style=\"text-align: right;\">\n",
       "      <th></th>\n",
       "      <th>KasusDBD</th>\n",
       "      <th>RHavg</th>\n",
       "      <th>inv_KasusDBD</th>\n",
       "      <th>inv_RHavg</th>\n",
       "    </tr>\n",
       "  </thead>\n",
       "  <tbody>\n",
       "    <tr>\n",
       "      <th>2021-10-01</th>\n",
       "      <td>344.0</td>\n",
       "      <td>78.61</td>\n",
       "      <td>598</td>\n",
       "      <td>87.054617</td>\n",
       "    </tr>\n",
       "    <tr>\n",
       "      <th>2021-11-01</th>\n",
       "      <td>475.0</td>\n",
       "      <td>82.93</td>\n",
       "      <td>549</td>\n",
       "      <td>87.801412</td>\n",
       "    </tr>\n",
       "    <tr>\n",
       "      <th>2021-12-01</th>\n",
       "      <td>695.0</td>\n",
       "      <td>83.13</td>\n",
       "      <td>624</td>\n",
       "      <td>87.202516</td>\n",
       "    </tr>\n",
       "  </tbody>\n",
       "</table>\n",
       "</div>"
      ],
      "text/plain": [
       "            KasusDBD  RHavg  inv_KasusDBD  inv_RHavg\n",
       "2021-10-01     344.0  78.61           598  87.054617\n",
       "2021-11-01     475.0  82.93           549  87.801412\n",
       "2021-12-01     695.0  83.13           624  87.202516"
      ]
     },
     "execution_count": 388,
     "metadata": {},
     "output_type": "execute_result"
    }
   ],
   "source": [
    "# converting 'test_vs_prediction' from float to int\n",
    "test_vs_prediction[['inv_KasusDBD']] = test_vs_prediction[['inv_KasusDBD']].apply(np.int64)\n",
    "\n",
    "# displaying the datatypes\n",
    "display(test_vs_prediction.dtypes)\n",
    "test_vs_prediction"
   ]
  },
  {
   "cell_type": "code",
   "execution_count": 389,
   "metadata": {},
   "outputs": [
    {
     "name": "stdout",
     "output_type": "stream",
     "text": [
      "Evaluation metric for KasusDBD\n",
      "Evaluation metric results:-\n",
      "MSE is : 25011.0\n",
      "MAE is : 133.0\n",
      "RMSE is : 158.14866423716643\n",
      "MAPE is : 0.3321066133629204\n",
      "\n",
      "Evaluation metric for RHavg\n",
      "Evaluation metric results:-\n",
      "MSE is : 37.20919703327607\n",
      "MAE is : 5.796181388552895\n",
      "RMSE is : 6.09993418270034\n",
      "MAPE is : 0.07171839224414195\n",
      "\n"
     ]
    }
   ],
   "source": [
    "for i in ['KasusDBD','RHavg']:\n",
    "    print(f'Evaluation metric for {i}')\n",
    "    timeseries_evaluation_metrics_func(test_vs_prediction[str(i)] , test_vs_prediction['inv_'+str(i)])"
   ]
  },
  {
   "cell_type": "code",
   "execution_count": 390,
   "metadata": {},
   "outputs": [
    {
     "data": {
      "text/plain": [
       "<AxesSubplot:>"
      ]
     },
     "execution_count": 390,
     "metadata": {},
     "output_type": "execute_result"
    },
    {
     "data": {
      "image/png": "[encoded data removed]",
      "text/plain": [
       "<Figure size 864x360 with 1 Axes>"
      ]
     },
     "metadata": {
      "needs_background": "light"
     },
     "output_type": "display_data"
    }
   ],
   "source": [
    "test_vs_prediction[['KasusDBD','inv_KasusDBD']].plot(figsize=(12,5))"
   ]
  },
  {
   "cell_type": "code",
   "execution_count": 391,
   "metadata": {},
   "outputs": [
    {
     "data": {
      "text/plain": [
       "<AxesSubplot:>"
      ]
     },
     "execution_count": 391,
     "metadata": {},
     "output_type": "execute_result"
    },
    {
     "data": {
      "image/png": "[encoded data removed]",
      "text/plain": [
       "<Figure size 864x360 with 1 Axes>"
      ]
     },
     "metadata": {
      "needs_background": "light"
     },
     "output_type": "display_data"
    }
   ],
   "source": [
    "test_vs_prediction[['RHavg','inv_RHavg']].plot(figsize=(12,5))"
   ]
  },
  {
   "cell_type": "code",
   "execution_count": 392,
   "metadata": {},
   "outputs": [
    {
     "data": {
      "image/png": "[encoded data removed]",
      "text/plain": [
       "<Figure size 720x504 with 1 Axes>"
      ]
     },
     "metadata": {
      "needs_background": "light"
     },
     "output_type": "display_data"
    },
    {
     "data": {
      "image/png": "[encoded data removed]",
      "text/plain": [
       "<Figure size 720x504 with 1 Axes>"
      ]
     },
     "metadata": {
      "needs_background": "light"
     },
     "output_type": "display_data"
    }
   ],
   "source": [
    "for i in ['KasusDBD','RHavg']:\n",
    "    \n",
    "    plt.rcParams[\"figure.figsize\"] = [10,7]\n",
    "    plt.plot(dataTA[str(i)], label='Data asli '+str(i))\n",
    "    plt.plot(test_vs_prediction['inv_'+str(i)], label='Forecast '+str(i))\n",
    "    plt.legend(loc='best')\n",
    "    plt.show()"
   ]
  }
 ],
 "metadata": {
  "kernelspec": {
   "display_name": "Python 3.8.3 64-bit",
   "language": "python",
   "name": "python3"
  },
  "language_info": {
   "codemirror_mode": {
    "name": "ipython",
    "version": 3
   },
   "file_extension": ".py",
   "mimetype": "text/x-python",
   "name": "python",
   "nbconvert_exporter": "python",
   "pygments_lexer": "ipython3",
   "version": "3.8.3"
  },
  "orig_nbformat": 4,
  "vscode": {
   "interpreter": {
    "hash": "7268f8b2c8e9b7c101aef22317ecead934d41adaa74e017730d34c40a6ef846d"
   }
  }
 },
 "nbformat": 4,
 "nbformat_minor": 2
}
