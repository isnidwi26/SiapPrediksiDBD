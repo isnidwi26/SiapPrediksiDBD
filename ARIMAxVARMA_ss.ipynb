{
 "cells": [
  {
   "cell_type": "code",
   "execution_count": 120,
   "metadata": {},
   "outputs": [],
   "source": [
    "import numpy as np \n",
    "import pandas as pd\n",
    "from statsmodels.tsa.stattools import acf, pacf\n",
    "import statsmodels.api as sm\n",
    "import math\n",
    "\n",
    "# visualizations\n",
    "import matplotlib.pyplot as plt\n",
    "from pylab import rcParams\n",
    "rcParams['figure.figsize'] = (12,5)\n",
    "%matplotlib inline\n",
    "from sklearn import metrics, preprocessing\n",
    "\n",
    "# time series related \n",
    "from pmdarima import auto_arima\n",
    "from statsmodels.tsa.stattools import adfuller\n",
    "from statsmodels.tools.eval_measures import mse,rmse\n",
    "from statsmodels.tsa.statespace.varmax import VARMAX,VARMAXResults\n",
    "\n",
    "from statsmodels.tsa.vector_ar.vecm import coint_johansen\n",
    "from timeit import default_timer as timer\n",
    "\n",
    "# handle warnings\n",
    "import warnings\n",
    "warnings.filterwarnings(action='ignore',category=DeprecationWarning)\n",
    "warnings.filterwarnings(action='ignore',category=FutureWarning)"
   ]
  },
  {
   "cell_type": "markdown",
   "metadata": {},
   "source": [
    "KUMPULAN FUNGSI"
   ]
  },
  {
   "cell_type": "code",
   "execution_count": 121,
   "metadata": {},
   "outputs": [],
   "source": [
    "def Augmented_Dickey_Fuller_Test_func(series , column_name):\n",
    "    print (f'Results of Dickey-Fuller Test for column: {column_name}')\n",
    "    datatest = adfuller(series, autolag='AIC')\n",
    "    dataoutput = pd.Series(datatest[0:4], index=['Test Statistic','p-value','No Lags Used','Number of Observations Used'])\n",
    "    for key,value in datatest[4].items():\n",
    "       dataoutput['Critical Value (%s)'%key] = value\n",
    "    print (dataoutput)\n",
    "    if datatest[1] <= 0.05:\n",
    "        print(\"Conclusion:====>\")\n",
    "        print(\"Reject the null hypothesis\")\n",
    "        print(\"Data is stationary\")\n",
    "    else:\n",
    "        print(\"Conclusion:====>\")\n",
    "        print(\"Fail to reject the null hypothesis\")\n",
    "        print(\"Data is non-stationary\")"
   ]
  },
  {
   "cell_type": "code",
   "execution_count": 122,
   "metadata": {},
   "outputs": [],
   "source": [
    "def inverse_diff(actual_df, pred_df):\n",
    "    df_res = pred_df.copy()\n",
    "    columns = actual_df.columns\n",
    "    for col in columns: \n",
    "        df_res['inv_'+str(col)] = actual_df[col].iloc[-1] + df_res[str(col)].cumsum()\n",
    "    return df_res"
   ]
  },
  {
   "cell_type": "code",
   "execution_count": 123,
   "metadata": {},
   "outputs": [],
   "source": [
    "def cointegration_test(dataTA): \n",
    "    res = coint_johansen(dataTA,-1,5)\n",
    "    d = {'0.90':0, '0.95':1, '0.99':2}\n",
    "    traces = res.lr1\n",
    "    cvts = res.cvt[:, d[str(1-0.05)]]\n",
    "    def adjust(val, length= 6): \n",
    "        return str(val).ljust(length)\n",
    "    print('Column Name   >  Test Stat > C(95%)    =>   Signif  \\n', '--'*20)\n",
    "    for col, trace, cvt in zip(dataTA.columns, traces, cvts):\n",
    "        print(adjust(col), '> ', adjust(round(trace,2), 9), \">\", adjust(cvt, 8), ' =>  ' , trace > cvt)"
   ]
  },
  {
   "cell_type": "code",
   "execution_count": 124,
   "metadata": {},
   "outputs": [],
   "source": [
    "def timeseries_evaluation_metrics_func(y_true, y_pred):\n",
    "    \n",
    "    def mean_absolute_percentage_error(y_true, y_pred): \n",
    "        y_true, y_pred = np.array(y_true), np.array(y_pred)\n",
    "        return np.mean(np.abs((y_true - y_pred) / y_true)) * 100\n",
    "    print('Evaluation metric results:-')\n",
    "    print(f'MSE is : {metrics.mean_squared_error(y_true, y_pred)}')\n",
    "    print(f'MAE is : {metrics.mean_absolute_error(y_true, y_pred)}')\n",
    "    print(f'RMSE is : {np.sqrt(metrics.mean_squared_error(y_true, y_pred))}')\n",
    "    print(f'MAPE is : {metrics.mean_absolute_percentage_error(y_true, y_pred)}',end='\\n\\n')"
   ]
  },
  {
   "cell_type": "markdown",
   "metadata": {},
   "source": [
    "INPUT DATA"
   ]
  },
  {
   "cell_type": "code",
   "execution_count": 125,
   "metadata": {},
   "outputs": [
    {
     "name": "stdout",
     "output_type": "stream",
     "text": [
      "(120, 4)\n"
     ]
    },
    {
     "data": {
      "text/html": [
       "<div>\n",
       "<style scoped>\n",
       "    .dataframe tbody tr th:only-of-type {\n",
       "        vertical-align: middle;\n",
       "    }\n",
       "\n",
       "    .dataframe tbody tr th {\n",
       "        vertical-align: top;\n",
       "    }\n",
       "\n",
       "    .dataframe thead th {\n",
       "        text-align: right;\n",
       "    }\n",
       "</style>\n",
       "<table border=\"1\" class=\"dataframe\">\n",
       "  <thead>\n",
       "    <tr style=\"text-align: right;\">\n",
       "      <th></th>\n",
       "      <th>KasusDBD</th>\n",
       "      <th>Tavg</th>\n",
       "      <th>RHavg</th>\n",
       "      <th>ss</th>\n",
       "    </tr>\n",
       "    <tr>\n",
       "      <th>Tahun</th>\n",
       "      <th></th>\n",
       "      <th></th>\n",
       "      <th></th>\n",
       "      <th></th>\n",
       "    </tr>\n",
       "  </thead>\n",
       "  <tbody>\n",
       "    <tr>\n",
       "      <th>2012-01-01</th>\n",
       "      <td>436.0</td>\n",
       "      <td>23.06</td>\n",
       "      <td>77.55</td>\n",
       "      <td>2.80</td>\n",
       "    </tr>\n",
       "    <tr>\n",
       "      <th>2012-02-01</th>\n",
       "      <td>493.0</td>\n",
       "      <td>23.50</td>\n",
       "      <td>78.69</td>\n",
       "      <td>6.33</td>\n",
       "    </tr>\n",
       "    <tr>\n",
       "      <th>2012-03-01</th>\n",
       "      <td>519.0</td>\n",
       "      <td>23.50</td>\n",
       "      <td>74.48</td>\n",
       "      <td>5.33</td>\n",
       "    </tr>\n",
       "    <tr>\n",
       "      <th>2012-04-01</th>\n",
       "      <td>482.0</td>\n",
       "      <td>24.00</td>\n",
       "      <td>81.00</td>\n",
       "      <td>3.00</td>\n",
       "    </tr>\n",
       "    <tr>\n",
       "      <th>2012-05-01</th>\n",
       "      <td>573.0</td>\n",
       "      <td>23.60</td>\n",
       "      <td>77.23</td>\n",
       "      <td>6.75</td>\n",
       "    </tr>\n",
       "  </tbody>\n",
       "</table>\n",
       "</div>"
      ],
      "text/plain": [
       "            KasusDBD   Tavg  RHavg    ss\n",
       "Tahun                                   \n",
       "2012-01-01     436.0  23.06  77.55  2.80\n",
       "2012-02-01     493.0  23.50  78.69  6.33\n",
       "2012-03-01     519.0  23.50  74.48  5.33\n",
       "2012-04-01     482.0  24.00  81.00  3.00\n",
       "2012-05-01     573.0  23.60  77.23  6.75"
      ]
     },
     "execution_count": 125,
     "metadata": {},
     "output_type": "execute_result"
    }
   ],
   "source": [
    "dataTA = pd.read_csv('dataTA.csv', parse_dates=['Tahun'], index_col='Tahun')\n",
    "dataTA.index.freq = 'MS'\n",
    "print(dataTA.shape) \n",
    "dataTA.head()"
   ]
  },
  {
   "cell_type": "markdown",
   "metadata": {},
   "source": [
    "PLOT DATA "
   ]
  },
  {
   "cell_type": "code",
   "execution_count": 126,
   "metadata": {},
   "outputs": [
    {
     "data": {
      "image/png": "[encoded data removed]",
      "text/plain": [
       "<Figure size 864x360 with 1 Axes>"
      ]
     },
     "metadata": {
      "needs_background": "light"
     },
     "output_type": "display_data"
    }
   ],
   "source": [
    "ylabel= ' '\n",
    "xlabel= 'Tahun'\n",
    "ax = dataTA['KasusDBD'].plot(figsize=(12,5),legend=True)\n",
    "ax.autoscale(axis='x',tight=True)"
   ]
  },
  {
   "cell_type": "code",
   "execution_count": 127,
   "metadata": {},
   "outputs": [
    {
     "data": {
      "image/png": "[encoded data removed]",
      "text/plain": [
       "<Figure size 864x360 with 1 Axes>"
      ]
     },
     "metadata": {
      "needs_background": "light"
     },
     "output_type": "display_data"
    }
   ],
   "source": [
    "ylabel= ' '\n",
    "xlabel= 'Tahun'\n",
    "ax = dataTA['ss'].plot(figsize=(12,5),legend=True)\n",
    "ax.autoscale(axis='x',tight=True)"
   ]
  },
  {
   "cell_type": "markdown",
   "metadata": {},
   "source": [
    "UJI STASIONER"
   ]
  },
  {
   "cell_type": "code",
   "execution_count": 128,
   "metadata": {},
   "outputs": [
    {
     "data": {
      "text/plain": [
       "(120, 2)"
      ]
     },
     "execution_count": 128,
     "metadata": {},
     "output_type": "execute_result"
    }
   ],
   "source": [
    "data=dataTA[['KasusDBD', 'ss']]\n",
    "data.columns = ['KasusDBD', 'ss']\n",
    "data.shape"
   ]
  },
  {
   "cell_type": "code",
   "execution_count": 129,
   "metadata": {},
   "outputs": [
    {
     "name": "stdout",
     "output_type": "stream",
     "text": [
      "Results of Dickey-Fuller Test for column: KasusDBD\n",
      "Test Statistic                  -4.822679\n",
      "p-value                          0.000049\n",
      "No Lags Used                     4.000000\n",
      "Number of Observations Used    115.000000\n",
      "Critical Value (1%)             -3.488535\n",
      "Critical Value (5%)             -2.887020\n",
      "Critical Value (10%)            -2.580360\n",
      "dtype: float64\n",
      "Conclusion:====>\n",
      "Reject the null hypothesis\n",
      "Data is stationary\n",
      "\n",
      "\n",
      "Results of Dickey-Fuller Test for column: ss\n",
      "Test Statistic                  -2.548885\n",
      "p-value                          0.104029\n",
      "No Lags Used                    13.000000\n",
      "Number of Observations Used    106.000000\n",
      "Critical Value (1%)             -3.493602\n",
      "Critical Value (5%)             -2.889217\n",
      "Critical Value (10%)            -2.581533\n",
      "dtype: float64\n",
      "Conclusion:====>\n",
      "Fail to reject the null hypothesis\n",
      "Data is non-stationary\n",
      "\n",
      "\n"
     ]
    }
   ],
   "source": [
    "for name, column in data.iteritems():\n",
    "    Augmented_Dickey_Fuller_Test_func(data[name],name)\n",
    "    print('\\n')"
   ]
  },
  {
   "cell_type": "markdown",
   "metadata": {},
   "source": [
    "UJI KORELASI"
   ]
  },
  {
   "cell_type": "code",
   "execution_count": 130,
   "metadata": {},
   "outputs": [
    {
     "data": {
      "text/html": [
       "<div>\n",
       "<style scoped>\n",
       "    .dataframe tbody tr th:only-of-type {\n",
       "        vertical-align: middle;\n",
       "    }\n",
       "\n",
       "    .dataframe tbody tr th {\n",
       "        vertical-align: top;\n",
       "    }\n",
       "\n",
       "    .dataframe thead th {\n",
       "        text-align: right;\n",
       "    }\n",
       "</style>\n",
       "<table border=\"1\" class=\"dataframe\">\n",
       "  <thead>\n",
       "    <tr style=\"text-align: right;\">\n",
       "      <th></th>\n",
       "      <th>KasusDBD</th>\n",
       "      <th>ss</th>\n",
       "    </tr>\n",
       "  </thead>\n",
       "  <tbody>\n",
       "    <tr>\n",
       "      <th>KasusDBD</th>\n",
       "      <td>1.000000</td>\n",
       "      <td>-0.117148</td>\n",
       "    </tr>\n",
       "    <tr>\n",
       "      <th>ss</th>\n",
       "      <td>-0.117148</td>\n",
       "      <td>1.000000</td>\n",
       "    </tr>\n",
       "  </tbody>\n",
       "</table>\n",
       "</div>"
      ],
      "text/plain": [
       "          KasusDBD        ss\n",
       "KasusDBD  1.000000 -0.117148\n",
       "ss       -0.117148  1.000000"
      ]
     },
     "execution_count": 130,
     "metadata": {},
     "output_type": "execute_result"
    }
   ],
   "source": [
    "data.corr()"
   ]
  },
  {
   "cell_type": "markdown",
   "metadata": {},
   "source": [
    "NORMALISASI DATA"
   ]
  },
  {
   "cell_type": "code",
   "execution_count": 131,
   "metadata": {},
   "outputs": [],
   "source": [
    "max_kasus = data['KasusDBD'].max()\n",
    "max_ss = data['ss'].max()\n"
   ]
  },
  {
   "cell_type": "code",
   "execution_count": 132,
   "metadata": {},
   "outputs": [
    {
     "name": "stderr",
     "output_type": "stream",
     "text": [
      "C:\\Users\\asus\\AppData\\Local\\Temp\\ipykernel_22392\\924132680.py:1: SettingWithCopyWarning: \n",
      "A value is trying to be set on a copy of a slice from a DataFrame.\n",
      "Try using .loc[row_indexer,col_indexer] = value instead\n",
      "\n",
      "See the caveats in the documentation: https://pandas.pydata.org/pandas-docs/stable/user_guide/indexing.html#returning-a-view-versus-a-copy\n",
      "  data['KasusDBD'] = data['KasusDBD']/max_kasus\n",
      "C:\\Users\\asus\\AppData\\Local\\Temp\\ipykernel_22392\\924132680.py:2: SettingWithCopyWarning: \n",
      "A value is trying to be set on a copy of a slice from a DataFrame.\n",
      "Try using .loc[row_indexer,col_indexer] = value instead\n",
      "\n",
      "See the caveats in the documentation: https://pandas.pydata.org/pandas-docs/stable/user_guide/indexing.html#returning-a-view-versus-a-copy\n",
      "  data['ss'] = data['ss']/max_ss\n"
     ]
    },
    {
     "data": {
      "text/html": [
       "<div>\n",
       "<style scoped>\n",
       "    .dataframe tbody tr th:only-of-type {\n",
       "        vertical-align: middle;\n",
       "    }\n",
       "\n",
       "    .dataframe tbody tr th {\n",
       "        vertical-align: top;\n",
       "    }\n",
       "\n",
       "    .dataframe thead th {\n",
       "        text-align: right;\n",
       "    }\n",
       "</style>\n",
       "<table border=\"1\" class=\"dataframe\">\n",
       "  <thead>\n",
       "    <tr style=\"text-align: right;\">\n",
       "      <th></th>\n",
       "      <th>KasusDBD</th>\n",
       "      <th>ss</th>\n",
       "    </tr>\n",
       "    <tr>\n",
       "      <th>Tahun</th>\n",
       "      <th></th>\n",
       "      <th></th>\n",
       "    </tr>\n",
       "  </thead>\n",
       "  <tbody>\n",
       "    <tr>\n",
       "      <th>2012-01-01</th>\n",
       "      <td>0.522782</td>\n",
       "      <td>0.280</td>\n",
       "    </tr>\n",
       "    <tr>\n",
       "      <th>2012-02-01</th>\n",
       "      <td>0.591127</td>\n",
       "      <td>0.633</td>\n",
       "    </tr>\n",
       "    <tr>\n",
       "      <th>2012-03-01</th>\n",
       "      <td>0.622302</td>\n",
       "      <td>0.533</td>\n",
       "    </tr>\n",
       "    <tr>\n",
       "      <th>2012-04-01</th>\n",
       "      <td>0.577938</td>\n",
       "      <td>0.300</td>\n",
       "    </tr>\n",
       "    <tr>\n",
       "      <th>2012-05-01</th>\n",
       "      <td>0.687050</td>\n",
       "      <td>0.675</td>\n",
       "    </tr>\n",
       "    <tr>\n",
       "      <th>...</th>\n",
       "      <td>...</td>\n",
       "      <td>...</td>\n",
       "    </tr>\n",
       "    <tr>\n",
       "      <th>2021-08-01</th>\n",
       "      <td>0.438849</td>\n",
       "      <td>0.628</td>\n",
       "    </tr>\n",
       "    <tr>\n",
       "      <th>2021-09-01</th>\n",
       "      <td>0.416067</td>\n",
       "      <td>0.522</td>\n",
       "    </tr>\n",
       "    <tr>\n",
       "      <th>2021-10-01</th>\n",
       "      <td>0.412470</td>\n",
       "      <td>0.465</td>\n",
       "    </tr>\n",
       "    <tr>\n",
       "      <th>2021-11-01</th>\n",
       "      <td>0.569544</td>\n",
       "      <td>0.340</td>\n",
       "    </tr>\n",
       "    <tr>\n",
       "      <th>2021-12-01</th>\n",
       "      <td>0.833333</td>\n",
       "      <td>0.410</td>\n",
       "    </tr>\n",
       "  </tbody>\n",
       "</table>\n",
       "<p>120 rows × 2 columns</p>\n",
       "</div>"
      ],
      "text/plain": [
       "            KasusDBD     ss\n",
       "Tahun                      \n",
       "2012-01-01  0.522782  0.280\n",
       "2012-02-01  0.591127  0.633\n",
       "2012-03-01  0.622302  0.533\n",
       "2012-04-01  0.577938  0.300\n",
       "2012-05-01  0.687050  0.675\n",
       "...              ...    ...\n",
       "2021-08-01  0.438849  0.628\n",
       "2021-09-01  0.416067  0.522\n",
       "2021-10-01  0.412470  0.465\n",
       "2021-11-01  0.569544  0.340\n",
       "2021-12-01  0.833333  0.410\n",
       "\n",
       "[120 rows x 2 columns]"
      ]
     },
     "execution_count": 132,
     "metadata": {},
     "output_type": "execute_result"
    }
   ],
   "source": [
    "data['KasusDBD'] = data['KasusDBD']/max_kasus\n",
    "data['ss'] = data['ss']/max_ss\n",
    "data"
   ]
  },
  {
   "cell_type": "markdown",
   "metadata": {},
   "source": [
    "UJI STASIONER"
   ]
  },
  {
   "cell_type": "code",
   "execution_count": 133,
   "metadata": {},
   "outputs": [
    {
     "name": "stdout",
     "output_type": "stream",
     "text": [
      "Results of Dickey-Fuller Test for column: KasusDBD\n",
      "Test Statistic                  -4.822679\n",
      "p-value                          0.000049\n",
      "No Lags Used                     4.000000\n",
      "Number of Observations Used    115.000000\n",
      "Critical Value (1%)             -3.488535\n",
      "Critical Value (5%)             -2.887020\n",
      "Critical Value (10%)            -2.580360\n",
      "dtype: float64\n",
      "Conclusion:====>\n",
      "Reject the null hypothesis\n",
      "Data is stationary\n",
      "\n",
      "\n",
      "Results of Dickey-Fuller Test for column: ss\n",
      "Test Statistic                  -2.548885\n",
      "p-value                          0.104029\n",
      "No Lags Used                    13.000000\n",
      "Number of Observations Used    106.000000\n",
      "Critical Value (1%)             -3.493602\n",
      "Critical Value (5%)             -2.889217\n",
      "Critical Value (10%)            -2.581533\n",
      "dtype: float64\n",
      "Conclusion:====>\n",
      "Fail to reject the null hypothesis\n",
      "Data is non-stationary\n",
      "\n",
      "\n"
     ]
    }
   ],
   "source": [
    "for name, column in data.iteritems():\n",
    "    Augmented_Dickey_Fuller_Test_func(data[name],name)\n",
    "    print('\\n')"
   ]
  },
  {
   "cell_type": "markdown",
   "metadata": {},
   "source": [
    "TRAIN TEST SPLIT"
   ]
  },
  {
   "cell_type": "code",
   "execution_count": 134,
   "metadata": {},
   "outputs": [
    {
     "data": {
      "text/html": [
       "<div>\n",
       "<style scoped>\n",
       "    .dataframe tbody tr th:only-of-type {\n",
       "        vertical-align: middle;\n",
       "    }\n",
       "\n",
       "    .dataframe tbody tr th {\n",
       "        vertical-align: top;\n",
       "    }\n",
       "\n",
       "    .dataframe thead th {\n",
       "        text-align: right;\n",
       "    }\n",
       "</style>\n",
       "<table border=\"1\" class=\"dataframe\">\n",
       "  <thead>\n",
       "    <tr style=\"text-align: right;\">\n",
       "      <th></th>\n",
       "      <th>KasusDBD</th>\n",
       "      <th>ss</th>\n",
       "    </tr>\n",
       "    <tr>\n",
       "      <th>Tahun</th>\n",
       "      <th></th>\n",
       "      <th></th>\n",
       "    </tr>\n",
       "  </thead>\n",
       "  <tbody>\n",
       "    <tr>\n",
       "      <th>2012-03-01</th>\n",
       "      <td>0.099520</td>\n",
       "      <td>0.253</td>\n",
       "    </tr>\n",
       "    <tr>\n",
       "      <th>2012-04-01</th>\n",
       "      <td>-0.013189</td>\n",
       "      <td>-0.333</td>\n",
       "    </tr>\n",
       "    <tr>\n",
       "      <th>2012-05-01</th>\n",
       "      <td>0.064748</td>\n",
       "      <td>0.142</td>\n",
       "    </tr>\n",
       "    <tr>\n",
       "      <th>2012-06-01</th>\n",
       "      <td>0.065947</td>\n",
       "      <td>0.357</td>\n",
       "    </tr>\n",
       "    <tr>\n",
       "      <th>2012-07-01</th>\n",
       "      <td>-0.142686</td>\n",
       "      <td>0.005</td>\n",
       "    </tr>\n",
       "    <tr>\n",
       "      <th>...</th>\n",
       "      <td>...</td>\n",
       "      <td>...</td>\n",
       "    </tr>\n",
       "    <tr>\n",
       "      <th>2020-08-01</th>\n",
       "      <td>-0.273381</td>\n",
       "      <td>0.037</td>\n",
       "    </tr>\n",
       "    <tr>\n",
       "      <th>2020-09-01</th>\n",
       "      <td>-0.158273</td>\n",
       "      <td>0.042</td>\n",
       "    </tr>\n",
       "    <tr>\n",
       "      <th>2020-10-01</th>\n",
       "      <td>-0.056355</td>\n",
       "      <td>-0.186</td>\n",
       "    </tr>\n",
       "    <tr>\n",
       "      <th>2020-11-01</th>\n",
       "      <td>-0.003597</td>\n",
       "      <td>-0.212</td>\n",
       "    </tr>\n",
       "    <tr>\n",
       "      <th>2020-12-01</th>\n",
       "      <td>0.044365</td>\n",
       "      <td>-0.080</td>\n",
       "    </tr>\n",
       "  </tbody>\n",
       "</table>\n",
       "<p>106 rows × 2 columns</p>\n",
       "</div>"
      ],
      "text/plain": [
       "            KasusDBD     ss\n",
       "Tahun                      \n",
       "2012-03-01  0.099520  0.253\n",
       "2012-04-01 -0.013189 -0.333\n",
       "2012-05-01  0.064748  0.142\n",
       "2012-06-01  0.065947  0.357\n",
       "2012-07-01 -0.142686  0.005\n",
       "...              ...    ...\n",
       "2020-08-01 -0.273381  0.037\n",
       "2020-09-01 -0.158273  0.042\n",
       "2020-10-01 -0.056355 -0.186\n",
       "2020-11-01 -0.003597 -0.212\n",
       "2020-12-01  0.044365 -0.080\n",
       "\n",
       "[106 rows x 2 columns]"
      ]
     },
     "execution_count": 134,
     "metadata": {},
     "output_type": "execute_result"
    }
   ],
   "source": [
    "n = 12\n",
    "train,test = data[0:-n], data[-n:]\n",
    "train_diff=train.diff(periods=2)\n",
    "train_diff.dropna(inplace=True)\n",
    "train_diff"
   ]
  },
  {
   "cell_type": "code",
   "execution_count": 135,
   "metadata": {},
   "outputs": [
    {
     "name": "stdout",
     "output_type": "stream",
     "text": [
      "Results of Dickey-Fuller Test for column: KasusDBD\n",
      "Test Statistic                 -4.068109\n",
      "p-value                         0.001093\n",
      "No Lags Used                   10.000000\n",
      "Number of Observations Used    95.000000\n",
      "Critical Value (1%)            -3.501137\n",
      "Critical Value (5%)            -2.892480\n",
      "Critical Value (10%)           -2.583275\n",
      "dtype: float64\n",
      "Conclusion:====>\n",
      "Reject the null hypothesis\n",
      "Data is stationary\n",
      "\n",
      "\n",
      "Results of Dickey-Fuller Test for column: ss\n",
      "Test Statistic                -7.197677e+00\n",
      "p-value                        2.410747e-10\n",
      "No Lags Used                   9.000000e+00\n",
      "Number of Observations Used    9.600000e+01\n",
      "Critical Value (1%)           -3.500379e+00\n",
      "Critical Value (5%)           -2.892152e+00\n",
      "Critical Value (10%)          -2.583100e+00\n",
      "dtype: float64\n",
      "Conclusion:====>\n",
      "Reject the null hypothesis\n",
      "Data is stationary\n",
      "\n",
      "\n"
     ]
    }
   ],
   "source": [
    "for name, column in train_diff.iteritems():\n",
    "    Augmented_Dickey_Fuller_Test_func(train_diff[name],name)\n",
    "    print('\\n')"
   ]
  },
  {
   "cell_type": "code",
   "execution_count": 136,
   "metadata": {},
   "outputs": [
    {
     "name": "stdout",
     "output_type": "stream",
     "text": [
      "Column Name   >  Test Stat > C(95%)    =>   Signif  \n",
      " ----------------------------------------\n",
      "KasusDBD >  88.54     > 12.3212   =>   True\n",
      "ss     >  38.99     > 4.1296    =>   True\n"
     ]
    }
   ],
   "source": [
    "cointegration_test(train_diff[['KasusDBD', 'ss']])"
   ]
  },
  {
   "cell_type": "code",
   "execution_count": 137,
   "metadata": {},
   "outputs": [
    {
     "data": {
      "text/plain": [
       "Text(0.5, 1.0, 'Partial Autocorrelation Function KasusDBD')"
      ]
     },
     "execution_count": 137,
     "metadata": {},
     "output_type": "execute_result"
    },
    {
     "data": {
      "image/png": "[encoded data removed]",
      "text/plain": [
       "<Figure size 432x288 with 2 Axes>"
      ]
     },
     "metadata": {
      "needs_background": "light"
     },
     "output_type": "display_data"
    }
   ],
   "source": [
    "#KASUS DBD\n",
    "kasusDBD_acf = acf(train_diff['KasusDBD'], nlags=24)\n",
    "kasusDBD_pacf = pacf(train_diff['KasusDBD'], nlags=24, method='ols')\n",
    "\n",
    "#Plot ACF: \n",
    "plt.subplot(311) \n",
    "plt.plot(kasusDBD_acf)\n",
    "plt.axhline(y=0,linestyle='--',color='gray')\n",
    "plt.axhline(y=-1.96/np.sqrt(len(train_diff['KasusDBD'])),linestyle='--',color='gray')\n",
    "plt.axhline(y=1.96/np.sqrt(len(train_diff['KasusDBD'])),linestyle='--',color='gray')\n",
    "plt.title(f'Autocorrelation Function KasusDBD')\n",
    "\n",
    "#Plot PACF:\n",
    "plt.subplot(313)\n",
    "plt.plot(kasusDBD_pacf)\n",
    "plt.axhline(y=0,linestyle='--',color='gray')\n",
    "plt.axhline(y=-1.96/np.sqrt(len(train_diff['KasusDBD'])),linestyle='--',color='gray')\n",
    "plt.axhline(y=1.96/np.sqrt(len(train_diff['KasusDBD'])),linestyle='--',color='gray')\n",
    "plt.title(f'Partial Autocorrelation Function KasusDBD')"
   ]
  },
  {
   "cell_type": "code",
   "execution_count": 138,
   "metadata": {},
   "outputs": [
    {
     "data": {
      "text/plain": [
       "Text(0.5, 1.0, 'Partial Autocorrelation Function SS')"
      ]
     },
     "execution_count": 138,
     "metadata": {},
     "output_type": "execute_result"
    },
    {
     "data": {
      "image/png": "[encoded data removed]",
      "text/plain": [
       "<Figure size 432x288 with 2 Axes>"
      ]
     },
     "metadata": {
      "needs_background": "light"
     },
     "output_type": "display_data"
    }
   ],
   "source": [
    "#SS\n",
    "rhavg_acf = acf(train_diff['ss'], nlags=24)\n",
    "rhavg_pacf = pacf(train_diff['ss'], nlags=24, method='ols')\n",
    "\n",
    "#Plot ACF: \n",
    "plt.subplot(311) \n",
    "plt.plot(rhavg_acf)\n",
    "plt.axhline(y=0,linestyle='--',color='gray')\n",
    "plt.axhline(y=-1.96/np.sqrt(len(train_diff['ss'])),linestyle='--',color='gray')\n",
    "plt.axhline(y=1.96/np.sqrt(len(train_diff['ss'])),linestyle='--',color='gray')\n",
    "plt.title(f'Autocorrelation Function SS')\n",
    "\n",
    "#Plot PACF:\n",
    "plt.subplot(313)\n",
    "plt.plot(rhavg_pacf)\n",
    "plt.axhline(y=0,linestyle='--',color='gray')\n",
    "plt.axhline(y=-1.96/np.sqrt(len(train_diff['ss'])),linestyle='--',color='gray')\n",
    "plt.axhline(y=1.96/np.sqrt(len(train_diff['ss'])),linestyle='--',color='gray')\n",
    "plt.title(f'Partial Autocorrelation Function SS')"
   ]
  },
  {
   "cell_type": "markdown",
   "metadata": {},
   "source": [
    "AUTO ARIMA"
   ]
  },
  {
   "cell_type": "code",
   "execution_count": 139,
   "metadata": {},
   "outputs": [
    {
     "name": "stdout",
     "output_type": "stream",
     "text": [
      "Searching order of p and q for : KasusDBD\n",
      "Performing stepwise search to minimize aic\n",
      " ARIMA(1,0,1)(0,0,0)[0]             : AIC=inf, Time=0.18 sec\n",
      " ARIMA(0,0,0)(0,0,0)[0]             : AIC=-43.288, Time=0.01 sec\n",
      " ARIMA(1,0,0)(0,0,0)[0]             : AIC=-77.365, Time=0.02 sec\n",
      " ARIMA(0,0,1)(0,0,0)[0]             : AIC=inf, Time=0.11 sec\n",
      " ARIMA(2,0,0)(0,0,0)[0]             : AIC=-92.209, Time=0.05 sec\n",
      " ARIMA(3,0,0)(0,0,0)[0]             : AIC=-93.825, Time=0.11 sec\n",
      " ARIMA(4,0,0)(0,0,0)[0]             : AIC=-110.516, Time=0.16 sec\n",
      " ARIMA(5,0,0)(0,0,0)[0]             : AIC=-109.662, Time=0.18 sec\n",
      " ARIMA(4,0,1)(0,0,0)[0]             : AIC=inf, Time=0.41 sec\n",
      " ARIMA(3,0,1)(0,0,0)[0]             : AIC=inf, Time=0.37 sec\n",
      " ARIMA(5,0,1)(0,0,0)[0]             : AIC=inf, Time=0.56 sec\n",
      " ARIMA(4,0,0)(0,0,0)[0] intercept   : AIC=-108.688, Time=0.20 sec\n",
      "\n",
      "Best model:  ARIMA(4,0,0)(0,0,0)[0]          \n",
      "Total fit time: 2.353 seconds\n",
      "optimal order for:KasusDBD is: (4, 0, 0) \n",
      "\n",
      "\n",
      "Searching order of p and q for : ss\n",
      "Performing stepwise search to minimize aic\n",
      " ARIMA(1,0,1)(0,0,0)[0]             : AIC=inf, Time=0.26 sec\n",
      " ARIMA(0,0,0)(0,0,0)[0]             : AIC=-19.314, Time=0.02 sec\n",
      " ARIMA(1,0,0)(0,0,0)[0]             : AIC=-34.194, Time=0.02 sec\n",
      " ARIMA(0,0,1)(0,0,0)[0]             : AIC=inf, Time=0.10 sec\n",
      " ARIMA(2,0,0)(0,0,0)[0]             : AIC=-47.701, Time=0.04 sec\n",
      " ARIMA(3,0,0)(0,0,0)[0]             : AIC=-46.135, Time=0.08 sec\n",
      " ARIMA(2,0,1)(0,0,0)[0]             : AIC=inf, Time=0.22 sec\n",
      " ARIMA(3,0,1)(0,0,0)[0]             : AIC=inf, Time=0.42 sec\n",
      " ARIMA(2,0,0)(0,0,0)[0] intercept   : AIC=-45.710, Time=0.07 sec\n",
      "\n",
      "Best model:  ARIMA(2,0,0)(0,0,0)[0]          \n",
      "Total fit time: 1.233 seconds\n",
      "optimal order for:ss is: (2, 0, 0) \n",
      "\n",
      "\n"
     ]
    }
   ],
   "source": [
    "pq = []\n",
    "for name, column in train_diff[['KasusDBD', 'ss']].iteritems():\n",
    "    print(f'Searching order of p and q for : {name}')\n",
    "    stepwise_model = auto_arima(train_diff[name],start_p=1, start_q=1,max_p=7, max_q=7, seasonal=False,\n",
    "        trace=True,error_action='ignore',suppress_warnings=True, stepwise=True,maxiter=1000)\n",
    "    parameter = stepwise_model.get_params().get('order')\n",
    "    print(f'optimal order for:{name} is: {parameter} \\n\\n')\n",
    "    pq.append(stepwise_model.get_params().get('order'))"
   ]
  },
  {
   "cell_type": "markdown",
   "metadata": {},
   "source": [
    "VARMA MODEL ORDER SELECTION"
   ]
  },
  {
   "cell_type": "code",
   "execution_count": 140,
   "metadata": {},
   "outputs": [
    {
     "name": "stderr",
     "output_type": "stream",
     "text": [
      "c:\\Users\\asus\\AppData\\Local\\Programs\\Python\\Python38\\lib\\site-packages\\statsmodels\\base\\model.py:604: ConvergenceWarning: Maximum Likelihood optimization failed to converge. Check mle_retvals\n",
      "  warnings.warn(\"Maximum Likelihood optimization failed to \"\n"
     ]
    },
    {
     "name": "stdout",
     "output_type": "stream",
     "text": [
      "VARMA Order (4, 0, 0)\n",
      "AIC -193.52966209775747\n",
      "BIC -137.59744112140407\n",
      "\n",
      "VARMA Order (2, 0, 0)\n",
      "AIC -165.78153834839543\n",
      "BIC -131.15683012493855\n",
      "\n"
     ]
    }
   ],
   "source": [
    "for i in pq:\n",
    "    if i[0]== 0 and i[2] ==0:\n",
    "        pass\n",
    "    else:\n",
    "        model = VARMAX(train_diff, order=(i[0],i[2]))\n",
    "        result=model.fit( disp=False)\n",
    "        print(f'VARMA Order {i}')\n",
    "        print('AIC {}'.format(result.aic))\n",
    "        print('BIC {}'.format(result.bic))\n",
    "        print()"
   ]
  },
  {
   "cell_type": "code",
   "execution_count": 141,
   "metadata": {},
   "outputs": [
    {
     "name": "stderr",
     "output_type": "stream",
     "text": [
      "c:\\Users\\asus\\AppData\\Local\\Programs\\Python\\Python38\\lib\\site-packages\\statsmodels\\base\\model.py:604: ConvergenceWarning: Maximum Likelihood optimization failed to converge. Check mle_retvals\n",
      "  warnings.warn(\"Maximum Likelihood optimization failed to \"\n"
     ]
    },
    {
     "name": "stdout",
     "output_type": "stream",
     "text": [
      "                           Statespace Model Results                           \n",
      "==============================================================================\n",
      "Dep. Variable:     ['KasusDBD', 'ss']   No. Observations:                  106\n",
      "Model:                         VAR(4)   Log Likelihood                 117.765\n",
      "                          + intercept   AIC                           -193.530\n",
      "Date:                Thu, 18 Aug 2022   BIC                           -137.597\n",
      "Time:                        18:13:04   HQIC                          -170.860\n",
      "Sample:                    03-01-2012                                         \n",
      "                         - 12-01-2020                                         \n",
      "Covariance Type:                  opg                                         \n",
      "===================================================================================\n",
      "Ljung-Box (L1) (Q):             0.02, 0.12   Jarque-Bera (JB):         344.95, 0.96\n",
      "Prob(Q):                        0.90, 0.73   Prob(JB):                   0.00, 0.62\n",
      "Heteroskedasticity (H):         1.88, 0.29   Skew:                       1.60, 0.19\n",
      "Prob(H) (two-sided):            0.07, 0.00   Kurtosis:                  11.24, 3.28\n",
      "                         Results for equation KasusDBD                         \n",
      "===============================================================================\n",
      "                  coef    std err          z      P>|z|      [0.025      0.975]\n",
      "-------------------------------------------------------------------------------\n",
      "intercept      -0.0050      0.015     -0.323      0.747      -0.035       0.025\n",
      "L1.KasusDBD     0.6141      0.130      4.716      0.000       0.359       0.869\n",
      "L1.ss          -0.1989      0.095     -2.096      0.036      -0.385      -0.013\n",
      "L2.KasusDBD    -0.5723      0.139     -4.119      0.000      -0.845      -0.300\n",
      "L2.ss          -0.2929      0.095     -3.068      0.002      -0.480      -0.106\n",
      "L3.KasusDBD     0.4333      0.121      3.571      0.000       0.195       0.671\n",
      "L3.ss          -0.0385      0.116     -0.333      0.739      -0.265       0.188\n",
      "L4.KasusDBD    -0.2550      0.096     -2.646      0.008      -0.444      -0.066\n",
      "L4.ss          -0.0857      0.110     -0.777      0.437      -0.302       0.130\n",
      "                            Results for equation ss                            \n",
      "===============================================================================\n",
      "                  coef    std err          z      P>|z|      [0.025      0.975]\n",
      "-------------------------------------------------------------------------------\n",
      "intercept       0.0013      0.021      0.062      0.950      -0.040       0.043\n",
      "L1.KasusDBD     0.1019      0.177      0.577      0.564      -0.244       0.448\n",
      "L1.ss           0.4841      0.110      4.388      0.000       0.268       0.700\n",
      "L2.KasusDBD    -0.0999      0.225     -0.443      0.658      -0.542       0.342\n",
      "L2.ss          -0.4771      0.121     -3.942      0.000      -0.714      -0.240\n",
      "L3.KasusDBD     0.0380      0.235      0.162      0.871      -0.422       0.498\n",
      "L3.ss           0.1251      0.148      0.846      0.397      -0.165       0.415\n",
      "L4.KasusDBD     0.3292      0.171      1.923      0.055      -0.006       0.665\n",
      "L4.ss          -0.2399      0.147     -1.632      0.103      -0.528       0.048\n",
      "                                Error covariance matrix                                 \n",
      "========================================================================================\n",
      "                           coef    std err          z      P>|z|      [0.025      0.975]\n",
      "----------------------------------------------------------------------------------------\n",
      "sqrt.var.KasusDBD        0.1133      0.005     21.282      0.000       0.103       0.124\n",
      "sqrt.cov.KasusDBD.ss    -0.0144      0.023     -0.634      0.526      -0.059       0.030\n",
      "sqrt.var.ss              0.1678      0.014     12.062      0.000       0.141       0.195\n",
      "========================================================================================\n",
      "\n",
      "Warnings:\n",
      "[1] Covariance matrix calculated using the outer product of gradients (complex-step).\n"
     ]
    }
   ],
   "source": [
    "varma_model = VARMAX(train_diff[['KasusDBD','ss']], order=(4,0),enforce_stationarity= True)\n",
    "fitted_model = varma_model.fit(disp=False)\n",
    "print(fitted_model.summary())"
   ]
  },
  {
   "cell_type": "markdown",
   "metadata": {},
   "source": [
    "PREDIKSI KASUS DBD"
   ]
  },
  {
   "cell_type": "code",
   "execution_count": 142,
   "metadata": {},
   "outputs": [
    {
     "data": {
      "text/html": [
       "<div>\n",
       "<style scoped>\n",
       "    .dataframe tbody tr th:only-of-type {\n",
       "        vertical-align: middle;\n",
       "    }\n",
       "\n",
       "    .dataframe tbody tr th {\n",
       "        vertical-align: top;\n",
       "    }\n",
       "\n",
       "    .dataframe thead th {\n",
       "        text-align: right;\n",
       "    }\n",
       "</style>\n",
       "<table border=\"1\" class=\"dataframe\">\n",
       "  <thead>\n",
       "    <tr style=\"text-align: right;\">\n",
       "      <th></th>\n",
       "      <th>KasusDBD</th>\n",
       "      <th>ss</th>\n",
       "    </tr>\n",
       "  </thead>\n",
       "  <tbody>\n",
       "    <tr>\n",
       "      <th>2021-01-01</th>\n",
       "      <td>0.121807</td>\n",
       "      <td>-0.018993</td>\n",
       "    </tr>\n",
       "    <tr>\n",
       "      <th>2021-02-01</th>\n",
       "      <td>0.108540</td>\n",
       "      <td>0.037674</td>\n",
       "    </tr>\n",
       "    <tr>\n",
       "      <th>2021-03-01</th>\n",
       "      <td>0.031418</td>\n",
       "      <td>0.068859</td>\n",
       "    </tr>\n",
       "    <tr>\n",
       "      <th>2021-04-01</th>\n",
       "      <td>-0.023487</td>\n",
       "      <td>0.045084</td>\n",
       "    </tr>\n",
       "    <tr>\n",
       "      <th>2021-05-01</th>\n",
       "      <td>-0.050380</td>\n",
       "      <td>0.038249</td>\n",
       "    </tr>\n",
       "    <tr>\n",
       "      <th>2021-06-01</th>\n",
       "      <td>-0.063241</td>\n",
       "      <td>0.032034</td>\n",
       "    </tr>\n",
       "    <tr>\n",
       "      <th>2021-07-01</th>\n",
       "      <td>-0.058393</td>\n",
       "      <td>-0.004273</td>\n",
       "    </tr>\n",
       "    <tr>\n",
       "      <th>2021-08-01</th>\n",
       "      <td>-0.034364</td>\n",
       "      <td>-0.031354</td>\n",
       "    </tr>\n",
       "    <tr>\n",
       "      <th>2021-09-01</th>\n",
       "      <td>-0.004254</td>\n",
       "      <td>-0.033658</td>\n",
       "    </tr>\n",
       "    <tr>\n",
       "      <th>2021-10-01</th>\n",
       "      <td>0.016185</td>\n",
       "      <td>-0.028287</td>\n",
       "    </tr>\n",
       "    <tr>\n",
       "      <th>2021-11-01</th>\n",
       "      <td>0.024440</td>\n",
       "      <td>-0.017680</td>\n",
       "    </tr>\n",
       "    <tr>\n",
       "      <th>2021-12-01</th>\n",
       "      <td>0.023459</td>\n",
       "      <td>-0.001044</td>\n",
       "    </tr>\n",
       "  </tbody>\n",
       "</table>\n",
       "</div>"
      ],
      "text/plain": [
       "            KasusDBD        ss\n",
       "2021-01-01  0.121807 -0.018993\n",
       "2021-02-01  0.108540  0.037674\n",
       "2021-03-01  0.031418  0.068859\n",
       "2021-04-01 -0.023487  0.045084\n",
       "2021-05-01 -0.050380  0.038249\n",
       "2021-06-01 -0.063241  0.032034\n",
       "2021-07-01 -0.058393 -0.004273\n",
       "2021-08-01 -0.034364 -0.031354\n",
       "2021-09-01 -0.004254 -0.033658\n",
       "2021-10-01  0.016185 -0.028287\n",
       "2021-11-01  0.024440 -0.017680\n",
       "2021-12-01  0.023459 -0.001044"
      ]
     },
     "execution_count": 142,
     "metadata": {},
     "output_type": "execute_result"
    }
   ],
   "source": [
    "m = len(train_diff)\n",
    "predict = fitted_model.get_prediction(start=m,end=m+n-1)\n",
    "prediction=predict.predicted_mean\n",
    "prediction"
   ]
  },
  {
   "cell_type": "code",
   "execution_count": 143,
   "metadata": {},
   "outputs": [
    {
     "data": {
      "text/html": [
       "<div>\n",
       "<style scoped>\n",
       "    .dataframe tbody tr th:only-of-type {\n",
       "        vertical-align: middle;\n",
       "    }\n",
       "\n",
       "    .dataframe tbody tr th {\n",
       "        vertical-align: top;\n",
       "    }\n",
       "\n",
       "    .dataframe thead th {\n",
       "        text-align: right;\n",
       "    }\n",
       "</style>\n",
       "<table border=\"1\" class=\"dataframe\">\n",
       "  <thead>\n",
       "    <tr style=\"text-align: right;\">\n",
       "      <th></th>\n",
       "      <th>KasusDBD</th>\n",
       "      <th>ss</th>\n",
       "      <th>inv_KasusDBD</th>\n",
       "      <th>inv_ss</th>\n",
       "    </tr>\n",
       "  </thead>\n",
       "  <tbody>\n",
       "    <tr>\n",
       "      <th>2021-01-01</th>\n",
       "      <td>0.121807</td>\n",
       "      <td>-0.018993</td>\n",
       "      <td>0.955140</td>\n",
       "      <td>0.391007</td>\n",
       "    </tr>\n",
       "    <tr>\n",
       "      <th>2021-02-01</th>\n",
       "      <td>0.108540</td>\n",
       "      <td>0.037674</td>\n",
       "      <td>1.063680</td>\n",
       "      <td>0.428681</td>\n",
       "    </tr>\n",
       "    <tr>\n",
       "      <th>2021-03-01</th>\n",
       "      <td>0.031418</td>\n",
       "      <td>0.068859</td>\n",
       "      <td>1.095098</td>\n",
       "      <td>0.497540</td>\n",
       "    </tr>\n",
       "    <tr>\n",
       "      <th>2021-04-01</th>\n",
       "      <td>-0.023487</td>\n",
       "      <td>0.045084</td>\n",
       "      <td>1.071611</td>\n",
       "      <td>0.542624</td>\n",
       "    </tr>\n",
       "    <tr>\n",
       "      <th>2021-05-01</th>\n",
       "      <td>-0.050380</td>\n",
       "      <td>0.038249</td>\n",
       "      <td>1.021231</td>\n",
       "      <td>0.580874</td>\n",
       "    </tr>\n",
       "    <tr>\n",
       "      <th>2021-06-01</th>\n",
       "      <td>-0.063241</td>\n",
       "      <td>0.032034</td>\n",
       "      <td>0.957990</td>\n",
       "      <td>0.612908</td>\n",
       "    </tr>\n",
       "    <tr>\n",
       "      <th>2021-07-01</th>\n",
       "      <td>-0.058393</td>\n",
       "      <td>-0.004273</td>\n",
       "      <td>0.899596</td>\n",
       "      <td>0.608635</td>\n",
       "    </tr>\n",
       "    <tr>\n",
       "      <th>2021-08-01</th>\n",
       "      <td>-0.034364</td>\n",
       "      <td>-0.031354</td>\n",
       "      <td>0.865232</td>\n",
       "      <td>0.577281</td>\n",
       "    </tr>\n",
       "    <tr>\n",
       "      <th>2021-09-01</th>\n",
       "      <td>-0.004254</td>\n",
       "      <td>-0.033658</td>\n",
       "      <td>0.860978</td>\n",
       "      <td>0.543623</td>\n",
       "    </tr>\n",
       "    <tr>\n",
       "      <th>2021-10-01</th>\n",
       "      <td>0.016185</td>\n",
       "      <td>-0.028287</td>\n",
       "      <td>0.877163</td>\n",
       "      <td>0.515336</td>\n",
       "    </tr>\n",
       "    <tr>\n",
       "      <th>2021-11-01</th>\n",
       "      <td>0.024440</td>\n",
       "      <td>-0.017680</td>\n",
       "      <td>0.901603</td>\n",
       "      <td>0.497656</td>\n",
       "    </tr>\n",
       "    <tr>\n",
       "      <th>2021-12-01</th>\n",
       "      <td>0.023459</td>\n",
       "      <td>-0.001044</td>\n",
       "      <td>0.925062</td>\n",
       "      <td>0.496612</td>\n",
       "    </tr>\n",
       "  </tbody>\n",
       "</table>\n",
       "</div>"
      ],
      "text/plain": [
       "            KasusDBD        ss  inv_KasusDBD    inv_ss\n",
       "2021-01-01  0.121807 -0.018993      0.955140  0.391007\n",
       "2021-02-01  0.108540  0.037674      1.063680  0.428681\n",
       "2021-03-01  0.031418  0.068859      1.095098  0.497540\n",
       "2021-04-01 -0.023487  0.045084      1.071611  0.542624\n",
       "2021-05-01 -0.050380  0.038249      1.021231  0.580874\n",
       "2021-06-01 -0.063241  0.032034      0.957990  0.612908\n",
       "2021-07-01 -0.058393 -0.004273      0.899596  0.608635\n",
       "2021-08-01 -0.034364 -0.031354      0.865232  0.577281\n",
       "2021-09-01 -0.004254 -0.033658      0.860978  0.543623\n",
       "2021-10-01  0.016185 -0.028287      0.877163  0.515336\n",
       "2021-11-01  0.024440 -0.017680      0.901603  0.497656\n",
       "2021-12-01  0.023459 -0.001044      0.925062  0.496612"
      ]
     },
     "execution_count": 143,
     "metadata": {},
     "output_type": "execute_result"
    }
   ],
   "source": [
    "inv_predict = inverse_diff(data,prediction)\n",
    "inv_predict"
   ]
  },
  {
   "cell_type": "code",
   "execution_count": 144,
   "metadata": {},
   "outputs": [
    {
     "data": {
      "text/html": [
       "<div>\n",
       "<style scoped>\n",
       "    .dataframe tbody tr th:only-of-type {\n",
       "        vertical-align: middle;\n",
       "    }\n",
       "\n",
       "    .dataframe tbody tr th {\n",
       "        vertical-align: top;\n",
       "    }\n",
       "\n",
       "    .dataframe thead th {\n",
       "        text-align: right;\n",
       "    }\n",
       "</style>\n",
       "<table border=\"1\" class=\"dataframe\">\n",
       "  <thead>\n",
       "    <tr style=\"text-align: right;\">\n",
       "      <th></th>\n",
       "      <th>KasusDBD</th>\n",
       "      <th>ss</th>\n",
       "      <th>inv_KasusDBD</th>\n",
       "      <th>inv_ss</th>\n",
       "    </tr>\n",
       "  </thead>\n",
       "  <tbody>\n",
       "    <tr>\n",
       "      <th>2021-01-01</th>\n",
       "      <td>0.212230</td>\n",
       "      <td>0.311</td>\n",
       "      <td>0.955140</td>\n",
       "      <td>0.391007</td>\n",
       "    </tr>\n",
       "    <tr>\n",
       "      <th>2021-02-01</th>\n",
       "      <td>0.182254</td>\n",
       "      <td>0.390</td>\n",
       "      <td>1.063680</td>\n",
       "      <td>0.428681</td>\n",
       "    </tr>\n",
       "    <tr>\n",
       "      <th>2021-03-01</th>\n",
       "      <td>0.200240</td>\n",
       "      <td>0.472</td>\n",
       "      <td>1.095098</td>\n",
       "      <td>0.497540</td>\n",
       "    </tr>\n",
       "    <tr>\n",
       "      <th>2021-04-01</th>\n",
       "      <td>0.232614</td>\n",
       "      <td>0.586</td>\n",
       "      <td>1.071611</td>\n",
       "      <td>0.542624</td>\n",
       "    </tr>\n",
       "    <tr>\n",
       "      <th>2021-05-01</th>\n",
       "      <td>0.372902</td>\n",
       "      <td>0.574</td>\n",
       "      <td>1.021231</td>\n",
       "      <td>0.580874</td>\n",
       "    </tr>\n",
       "    <tr>\n",
       "      <th>2021-06-01</th>\n",
       "      <td>0.327338</td>\n",
       "      <td>0.506</td>\n",
       "      <td>0.957990</td>\n",
       "      <td>0.612908</td>\n",
       "    </tr>\n",
       "    <tr>\n",
       "      <th>2021-07-01</th>\n",
       "      <td>0.290168</td>\n",
       "      <td>0.724</td>\n",
       "      <td>0.899596</td>\n",
       "      <td>0.608635</td>\n",
       "    </tr>\n",
       "    <tr>\n",
       "      <th>2021-08-01</th>\n",
       "      <td>0.438849</td>\n",
       "      <td>0.628</td>\n",
       "      <td>0.865232</td>\n",
       "      <td>0.577281</td>\n",
       "    </tr>\n",
       "    <tr>\n",
       "      <th>2021-09-01</th>\n",
       "      <td>0.416067</td>\n",
       "      <td>0.522</td>\n",
       "      <td>0.860978</td>\n",
       "      <td>0.543623</td>\n",
       "    </tr>\n",
       "    <tr>\n",
       "      <th>2021-10-01</th>\n",
       "      <td>0.412470</td>\n",
       "      <td>0.465</td>\n",
       "      <td>0.877163</td>\n",
       "      <td>0.515336</td>\n",
       "    </tr>\n",
       "    <tr>\n",
       "      <th>2021-11-01</th>\n",
       "      <td>0.569544</td>\n",
       "      <td>0.340</td>\n",
       "      <td>0.901603</td>\n",
       "      <td>0.497656</td>\n",
       "    </tr>\n",
       "    <tr>\n",
       "      <th>2021-12-01</th>\n",
       "      <td>0.833333</td>\n",
       "      <td>0.410</td>\n",
       "      <td>0.925062</td>\n",
       "      <td>0.496612</td>\n",
       "    </tr>\n",
       "  </tbody>\n",
       "</table>\n",
       "</div>"
      ],
      "text/plain": [
       "            KasusDBD     ss  inv_KasusDBD    inv_ss\n",
       "2021-01-01  0.212230  0.311      0.955140  0.391007\n",
       "2021-02-01  0.182254  0.390      1.063680  0.428681\n",
       "2021-03-01  0.200240  0.472      1.095098  0.497540\n",
       "2021-04-01  0.232614  0.586      1.071611  0.542624\n",
       "2021-05-01  0.372902  0.574      1.021231  0.580874\n",
       "2021-06-01  0.327338  0.506      0.957990  0.612908\n",
       "2021-07-01  0.290168  0.724      0.899596  0.608635\n",
       "2021-08-01  0.438849  0.628      0.865232  0.577281\n",
       "2021-09-01  0.416067  0.522      0.860978  0.543623\n",
       "2021-10-01  0.412470  0.465      0.877163  0.515336\n",
       "2021-11-01  0.569544  0.340      0.901603  0.497656\n",
       "2021-12-01  0.833333  0.410      0.925062  0.496612"
      ]
     },
     "execution_count": 144,
     "metadata": {},
     "output_type": "execute_result"
    }
   ],
   "source": [
    "test_vs_prediction = pd.concat([test,inv_predict[['inv_KasusDBD','inv_ss']]],axis=1)\n",
    "test_vs_prediction"
   ]
  },
  {
   "cell_type": "markdown",
   "metadata": {},
   "source": [
    "MENGEMBALIKAN NILAI ASLI"
   ]
  },
  {
   "cell_type": "code",
   "execution_count": 145,
   "metadata": {},
   "outputs": [
    {
     "data": {
      "text/html": [
       "<div>\n",
       "<style scoped>\n",
       "    .dataframe tbody tr th:only-of-type {\n",
       "        vertical-align: middle;\n",
       "    }\n",
       "\n",
       "    .dataframe tbody tr th {\n",
       "        vertical-align: top;\n",
       "    }\n",
       "\n",
       "    .dataframe thead th {\n",
       "        text-align: right;\n",
       "    }\n",
       "</style>\n",
       "<table border=\"1\" class=\"dataframe\">\n",
       "  <thead>\n",
       "    <tr style=\"text-align: right;\">\n",
       "      <th></th>\n",
       "      <th>KasusDBD</th>\n",
       "      <th>ss</th>\n",
       "      <th>inv_KasusDBD</th>\n",
       "      <th>inv_ss</th>\n",
       "    </tr>\n",
       "  </thead>\n",
       "  <tbody>\n",
       "    <tr>\n",
       "      <th>2021-01-01</th>\n",
       "      <td>177.0</td>\n",
       "      <td>3.11</td>\n",
       "      <td>796.586882</td>\n",
       "      <td>3.910069</td>\n",
       "    </tr>\n",
       "    <tr>\n",
       "      <th>2021-02-01</th>\n",
       "      <td>152.0</td>\n",
       "      <td>3.90</td>\n",
       "      <td>887.109523</td>\n",
       "      <td>4.286808</td>\n",
       "    </tr>\n",
       "    <tr>\n",
       "      <th>2021-03-01</th>\n",
       "      <td>167.0</td>\n",
       "      <td>4.72</td>\n",
       "      <td>913.312059</td>\n",
       "      <td>4.975402</td>\n",
       "    </tr>\n",
       "    <tr>\n",
       "      <th>2021-04-01</th>\n",
       "      <td>194.0</td>\n",
       "      <td>5.86</td>\n",
       "      <td>893.723603</td>\n",
       "      <td>5.426243</td>\n",
       "    </tr>\n",
       "    <tr>\n",
       "      <th>2021-05-01</th>\n",
       "      <td>311.0</td>\n",
       "      <td>5.74</td>\n",
       "      <td>851.706675</td>\n",
       "      <td>5.808737</td>\n",
       "    </tr>\n",
       "    <tr>\n",
       "      <th>2021-06-01</th>\n",
       "      <td>273.0</td>\n",
       "      <td>5.06</td>\n",
       "      <td>798.963297</td>\n",
       "      <td>6.129078</td>\n",
       "    </tr>\n",
       "    <tr>\n",
       "      <th>2021-07-01</th>\n",
       "      <td>242.0</td>\n",
       "      <td>7.24</td>\n",
       "      <td>750.263315</td>\n",
       "      <td>6.086346</td>\n",
       "    </tr>\n",
       "    <tr>\n",
       "      <th>2021-08-01</th>\n",
       "      <td>366.0</td>\n",
       "      <td>6.28</td>\n",
       "      <td>721.603350</td>\n",
       "      <td>5.772806</td>\n",
       "    </tr>\n",
       "    <tr>\n",
       "      <th>2021-09-01</th>\n",
       "      <td>347.0</td>\n",
       "      <td>5.22</td>\n",
       "      <td>718.055543</td>\n",
       "      <td>5.436229</td>\n",
       "    </tr>\n",
       "    <tr>\n",
       "      <th>2021-10-01</th>\n",
       "      <td>344.0</td>\n",
       "      <td>4.65</td>\n",
       "      <td>731.553565</td>\n",
       "      <td>5.153362</td>\n",
       "    </tr>\n",
       "    <tr>\n",
       "      <th>2021-11-01</th>\n",
       "      <td>475.0</td>\n",
       "      <td>3.40</td>\n",
       "      <td>751.936551</td>\n",
       "      <td>4.976560</td>\n",
       "    </tr>\n",
       "    <tr>\n",
       "      <th>2021-12-01</th>\n",
       "      <td>695.0</td>\n",
       "      <td>4.10</td>\n",
       "      <td>771.501771</td>\n",
       "      <td>4.966123</td>\n",
       "    </tr>\n",
       "  </tbody>\n",
       "</table>\n",
       "</div>"
      ],
      "text/plain": [
       "            KasusDBD    ss  inv_KasusDBD    inv_ss\n",
       "2021-01-01     177.0  3.11    796.586882  3.910069\n",
       "2021-02-01     152.0  3.90    887.109523  4.286808\n",
       "2021-03-01     167.0  4.72    913.312059  4.975402\n",
       "2021-04-01     194.0  5.86    893.723603  5.426243\n",
       "2021-05-01     311.0  5.74    851.706675  5.808737\n",
       "2021-06-01     273.0  5.06    798.963297  6.129078\n",
       "2021-07-01     242.0  7.24    750.263315  6.086346\n",
       "2021-08-01     366.0  6.28    721.603350  5.772806\n",
       "2021-09-01     347.0  5.22    718.055543  5.436229\n",
       "2021-10-01     344.0  4.65    731.553565  5.153362\n",
       "2021-11-01     475.0  3.40    751.936551  4.976560\n",
       "2021-12-01     695.0  4.10    771.501771  4.966123"
      ]
     },
     "execution_count": 145,
     "metadata": {},
     "output_type": "execute_result"
    }
   ],
   "source": [
    "test_vs_prediction['inv_KasusDBD'] = test_vs_prediction['inv_KasusDBD']*max_kasus\n",
    "test_vs_prediction['inv_ss'] = test_vs_prediction['inv_ss']*max_ss\n",
    "test_vs_prediction['KasusDBD'] = test_vs_prediction['KasusDBD']*dataTA['KasusDBD'].max()\n",
    "test_vs_prediction['ss'] = test_vs_prediction['ss']*dataTA['ss'].max()\n",
    "test_vs_prediction"
   ]
  },
  {
   "cell_type": "markdown",
   "metadata": {},
   "source": [
    "CONVERTING PREDICTION FROM FLOAT TO INTEGER"
   ]
  },
  {
   "cell_type": "code",
   "execution_count": 146,
   "metadata": {},
   "outputs": [
    {
     "data": {
      "text/plain": [
       "KasusDBD        float64\n",
       "ss              float64\n",
       "inv_KasusDBD      int64\n",
       "inv_ss          float64\n",
       "dtype: object"
      ]
     },
     "metadata": {},
     "output_type": "display_data"
    },
    {
     "data": {
      "text/html": [
       "<div>\n",
       "<style scoped>\n",
       "    .dataframe tbody tr th:only-of-type {\n",
       "        vertical-align: middle;\n",
       "    }\n",
       "\n",
       "    .dataframe tbody tr th {\n",
       "        vertical-align: top;\n",
       "    }\n",
       "\n",
       "    .dataframe thead th {\n",
       "        text-align: right;\n",
       "    }\n",
       "</style>\n",
       "<table border=\"1\" class=\"dataframe\">\n",
       "  <thead>\n",
       "    <tr style=\"text-align: right;\">\n",
       "      <th></th>\n",
       "      <th>KasusDBD</th>\n",
       "      <th>ss</th>\n",
       "      <th>inv_KasusDBD</th>\n",
       "      <th>inv_ss</th>\n",
       "    </tr>\n",
       "  </thead>\n",
       "  <tbody>\n",
       "    <tr>\n",
       "      <th>2021-01-01</th>\n",
       "      <td>177.0</td>\n",
       "      <td>3.11</td>\n",
       "      <td>796</td>\n",
       "      <td>3.910069</td>\n",
       "    </tr>\n",
       "    <tr>\n",
       "      <th>2021-02-01</th>\n",
       "      <td>152.0</td>\n",
       "      <td>3.90</td>\n",
       "      <td>887</td>\n",
       "      <td>4.286808</td>\n",
       "    </tr>\n",
       "    <tr>\n",
       "      <th>2021-03-01</th>\n",
       "      <td>167.0</td>\n",
       "      <td>4.72</td>\n",
       "      <td>913</td>\n",
       "      <td>4.975402</td>\n",
       "    </tr>\n",
       "    <tr>\n",
       "      <th>2021-04-01</th>\n",
       "      <td>194.0</td>\n",
       "      <td>5.86</td>\n",
       "      <td>893</td>\n",
       "      <td>5.426243</td>\n",
       "    </tr>\n",
       "    <tr>\n",
       "      <th>2021-05-01</th>\n",
       "      <td>311.0</td>\n",
       "      <td>5.74</td>\n",
       "      <td>851</td>\n",
       "      <td>5.808737</td>\n",
       "    </tr>\n",
       "    <tr>\n",
       "      <th>2021-06-01</th>\n",
       "      <td>273.0</td>\n",
       "      <td>5.06</td>\n",
       "      <td>798</td>\n",
       "      <td>6.129078</td>\n",
       "    </tr>\n",
       "    <tr>\n",
       "      <th>2021-07-01</th>\n",
       "      <td>242.0</td>\n",
       "      <td>7.24</td>\n",
       "      <td>750</td>\n",
       "      <td>6.086346</td>\n",
       "    </tr>\n",
       "    <tr>\n",
       "      <th>2021-08-01</th>\n",
       "      <td>366.0</td>\n",
       "      <td>6.28</td>\n",
       "      <td>721</td>\n",
       "      <td>5.772806</td>\n",
       "    </tr>\n",
       "    <tr>\n",
       "      <th>2021-09-01</th>\n",
       "      <td>347.0</td>\n",
       "      <td>5.22</td>\n",
       "      <td>718</td>\n",
       "      <td>5.436229</td>\n",
       "    </tr>\n",
       "    <tr>\n",
       "      <th>2021-10-01</th>\n",
       "      <td>344.0</td>\n",
       "      <td>4.65</td>\n",
       "      <td>731</td>\n",
       "      <td>5.153362</td>\n",
       "    </tr>\n",
       "    <tr>\n",
       "      <th>2021-11-01</th>\n",
       "      <td>475.0</td>\n",
       "      <td>3.40</td>\n",
       "      <td>751</td>\n",
       "      <td>4.976560</td>\n",
       "    </tr>\n",
       "    <tr>\n",
       "      <th>2021-12-01</th>\n",
       "      <td>695.0</td>\n",
       "      <td>4.10</td>\n",
       "      <td>771</td>\n",
       "      <td>4.966123</td>\n",
       "    </tr>\n",
       "  </tbody>\n",
       "</table>\n",
       "</div>"
      ],
      "text/plain": [
       "            KasusDBD    ss  inv_KasusDBD    inv_ss\n",
       "2021-01-01     177.0  3.11           796  3.910069\n",
       "2021-02-01     152.0  3.90           887  4.286808\n",
       "2021-03-01     167.0  4.72           913  4.975402\n",
       "2021-04-01     194.0  5.86           893  5.426243\n",
       "2021-05-01     311.0  5.74           851  5.808737\n",
       "2021-06-01     273.0  5.06           798  6.129078\n",
       "2021-07-01     242.0  7.24           750  6.086346\n",
       "2021-08-01     366.0  6.28           721  5.772806\n",
       "2021-09-01     347.0  5.22           718  5.436229\n",
       "2021-10-01     344.0  4.65           731  5.153362\n",
       "2021-11-01     475.0  3.40           751  4.976560\n",
       "2021-12-01     695.0  4.10           771  4.966123"
      ]
     },
     "execution_count": 146,
     "metadata": {},
     "output_type": "execute_result"
    }
   ],
   "source": [
    "# converting 'test_vs_prediction' from float to int\n",
    "test_vs_prediction[['inv_KasusDBD']] = test_vs_prediction[['inv_KasusDBD']].apply(np.int64)\n",
    "\n",
    "# displaying the datatypes\n",
    "display(test_vs_prediction.dtypes)\n",
    "test_vs_prediction"
   ]
  },
  {
   "cell_type": "code",
   "execution_count": 147,
   "metadata": {},
   "outputs": [
    {
     "name": "stdout",
     "output_type": "stream",
     "text": [
      "Evaluation metric for KasusDBD\n",
      "Evaluation metric results:-\n",
      "MSE is : 274098.25\n",
      "MAE is : 486.4166666666667\n",
      "RMSE is : 523.5439332090479\n",
      "MAPE is : 2.1679966467189304\n",
      "\n",
      "Evaluation metric for ss\n",
      "Evaluation metric results:-\n",
      "MSE is : 0.6095633707093563\n",
      "MAE is : 0.6530810802902377\n",
      "RMSE is : 0.7807453942927594\n",
      "MAPE is : 0.14771240037033515\n",
      "\n"
     ]
    }
   ],
   "source": [
    "for i in ['KasusDBD','ss']:\n",
    "    print(f'Evaluation metric for {i}')\n",
    "    timeseries_evaluation_metrics_func(test_vs_prediction[str(i)],test_vs_prediction['inv_'+str(i)])"
   ]
  },
  {
   "cell_type": "code",
   "execution_count": 148,
   "metadata": {},
   "outputs": [
    {
     "data": {
      "text/plain": [
       "<AxesSubplot:>"
      ]
     },
     "execution_count": 148,
     "metadata": {},
     "output_type": "execute_result"
    },
    {
     "data": {
      "image/png": "[encoded data removed]",
      "text/plain": [
       "<Figure size 864x360 with 1 Axes>"
      ]
     },
     "metadata": {
      "needs_background": "light"
     },
     "output_type": "display_data"
    }
   ],
   "source": [
    "test_vs_prediction[['KasusDBD','inv_KasusDBD']].plot(figsize=(12,5))"
   ]
  },
  {
   "cell_type": "code",
   "execution_count": 149,
   "metadata": {},
   "outputs": [
    {
     "data": {
      "text/plain": [
       "<AxesSubplot:>"
      ]
     },
     "execution_count": 149,
     "metadata": {},
     "output_type": "execute_result"
    },
    {
     "data": {
      "image/png": "[encoded data removed]",
      "text/plain": [
       "<Figure size 864x360 with 1 Axes>"
      ]
     },
     "metadata": {
      "needs_background": "light"
     },
     "output_type": "display_data"
    }
   ],
   "source": [
    "test_vs_prediction[['ss','inv_ss']].plot(figsize=(12,5))"
   ]
  },
  {
   "cell_type": "code",
   "execution_count": 150,
   "metadata": {},
   "outputs": [
    {
     "data": {
      "image/png": "[encoded data removed]",
      "text/plain": [
       "<Figure size 720x504 with 1 Axes>"
      ]
     },
     "metadata": {
      "needs_background": "light"
     },
     "output_type": "display_data"
    },
    {
     "data": {
      "image/png": "[encoded data removed]",
      "text/plain": [
       "<Figure size 720x504 with 1 Axes>"
      ]
     },
     "metadata": {
      "needs_background": "light"
     },
     "output_type": "display_data"
    }
   ],
   "source": [
    "for i in ['KasusDBD','ss']:\n",
    "    \n",
    "    plt.rcParams[\"figure.figsize\"] = [10,7]\n",
    "    plt.plot(dataTA[str(i)], label='Data asli '+str(i))\n",
    "    plt.plot(test_vs_prediction['inv_'+str(i)], label='Forecast '+str(i))\n",
    "    plt.legend(loc='best')\n",
    "    plt.show()"
   ]
  }
 ],
 "metadata": {
  "kernelspec": {
   "display_name": "Python 3.8.3 64-bit",
   "language": "python",
   "name": "python3"
  },
  "language_info": {
   "codemirror_mode": {
    "name": "ipython",
    "version": 3
   },
   "file_extension": ".py",
   "mimetype": "text/x-python",
   "name": "python",
   "nbconvert_exporter": "python",
   "pygments_lexer": "ipython3",
   "version": "3.8.3"
  },
  "orig_nbformat": 4,
  "vscode": {
   "interpreter": {
    "hash": "7268f8b2c8e9b7c101aef22317ecead934d41adaa74e017730d34c40a6ef846d"
   }
  }
 },
 "nbformat": 4,
 "nbformat_minor": 2
}
